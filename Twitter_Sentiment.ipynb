{
  "nbformat": 4,
  "nbformat_minor": 0,
  "metadata": {
    "colab": {
      "name": "Twitter Sentiment.ipynb",
      "provenance": [],
      "collapsed_sections": []
    },
    "kernelspec": {
      "name": "python3",
      "display_name": "Python 3"
    },
    "accelerator": "GPU"
  },
  "cells": [
    {
      "cell_type": "markdown",
      "metadata": {
        "id": "KGGZsUaHScRE",
        "colab_type": "text"
      },
      "source": [
        "# **Twitter Sentiment Project**"
      ]
    },
    {
      "cell_type": "markdown",
      "metadata": {
        "id": "32ypUoA3Siwb",
        "colab_type": "text"
      },
      "source": [
        "This is a kaggle challenge."
      ]
    },
    {
      "cell_type": "markdown",
      "metadata": {
        "id": "_eJznGvmTy00",
        "colab_type": "text"
      },
      "source": [
        "#Data Exploration and Pre-processing:"
      ]
    },
    {
      "cell_type": "code",
      "metadata": {
        "id": "A8u8CHR5UYWp",
        "colab_type": "code",
        "colab": {}
      },
      "source": [
        "# Basic packages\n",
        "import pandas as pd \n",
        "import numpy as np\n",
        "import re\n",
        "import collections\n",
        "import matplotlib.pyplot as plt\n",
        "\n",
        "\n",
        "# Modeling, selection, and evaluation\n",
        "#!pip install torch\n",
        "#!pip install torchtext==0.2.3\n",
        "from fastai.text import *\n",
        "from fastai import *\n",
        "from pathlib import Path\n",
        "from sklearn.model_selection import train_test_split\n",
        "from sklearn.metrics import confusion_matrix, accuracy_score\n",
        "from sklearn.utils.multiclass import unique_labels"
      ],
      "execution_count": 0,
      "outputs": []
    },
    {
      "cell_type": "markdown",
      "metadata": {
        "id": "AJTcLOd6XL3U",
        "colab_type": "text"
      },
      "source": [
        "## Data Exploration:"
      ]
    },
    {
      "cell_type": "code",
      "metadata": {
        "id": "UUtDpPLltvGG",
        "colab_type": "code",
        "outputId": "d0dda095-25e0-42d6-c392-b6510d4fae11",
        "colab": {
          "base_uri": "https://localhost:8080/",
          "height": 855
        }
      },
      "source": [
        "%matplotlib inline \n",
        "\n",
        "# Load csv data and store it in dataframe\n",
        "url='https://raw.githubusercontent.com/cyu1221/MachineLearningCourse/master/Twitter%20Sentiments/Tweets.csv'\n",
        "data = pd.read_csv(url)\n",
        "\n",
        "# Preview the first 10 lines of the loaded data \n",
        "data.head(10)"
      ],
      "execution_count": 2,
      "outputs": [
        {
          "output_type": "execute_result",
          "data": {
            "text/html": [
              "<div>\n",
              "<style scoped>\n",
              "    .dataframe tbody tr th:only-of-type {\n",
              "        vertical-align: middle;\n",
              "    }\n",
              "\n",
              "    .dataframe tbody tr th {\n",
              "        vertical-align: top;\n",
              "    }\n",
              "\n",
              "    .dataframe thead th {\n",
              "        text-align: right;\n",
              "    }\n",
              "</style>\n",
              "<table border=\"1\" class=\"dataframe\">\n",
              "  <thead>\n",
              "    <tr style=\"text-align: right;\">\n",
              "      <th></th>\n",
              "      <th>tweet_id</th>\n",
              "      <th>airline_sentiment</th>\n",
              "      <th>airline_sentiment_confidence</th>\n",
              "      <th>negativereason</th>\n",
              "      <th>negativereason_confidence</th>\n",
              "      <th>airline</th>\n",
              "      <th>airline_sentiment_gold</th>\n",
              "      <th>name</th>\n",
              "      <th>negativereason_gold</th>\n",
              "      <th>retweet_count</th>\n",
              "      <th>text</th>\n",
              "      <th>tweet_coord</th>\n",
              "      <th>tweet_created</th>\n",
              "      <th>tweet_location</th>\n",
              "      <th>user_timezone</th>\n",
              "    </tr>\n",
              "  </thead>\n",
              "  <tbody>\n",
              "    <tr>\n",
              "      <th>0</th>\n",
              "      <td>570306133677760513</td>\n",
              "      <td>neutral</td>\n",
              "      <td>1.0000</td>\n",
              "      <td>NaN</td>\n",
              "      <td>NaN</td>\n",
              "      <td>Virgin America</td>\n",
              "      <td>NaN</td>\n",
              "      <td>cairdin</td>\n",
              "      <td>NaN</td>\n",
              "      <td>0</td>\n",
              "      <td>@VirginAmerica What @dhepburn said.</td>\n",
              "      <td>NaN</td>\n",
              "      <td>2015-02-24 11:35:52 -0800</td>\n",
              "      <td>NaN</td>\n",
              "      <td>Eastern Time (US &amp; Canada)</td>\n",
              "    </tr>\n",
              "    <tr>\n",
              "      <th>1</th>\n",
              "      <td>570301130888122368</td>\n",
              "      <td>positive</td>\n",
              "      <td>0.3486</td>\n",
              "      <td>NaN</td>\n",
              "      <td>0.0000</td>\n",
              "      <td>Virgin America</td>\n",
              "      <td>NaN</td>\n",
              "      <td>jnardino</td>\n",
              "      <td>NaN</td>\n",
              "      <td>0</td>\n",
              "      <td>@VirginAmerica plus you've added commercials t...</td>\n",
              "      <td>NaN</td>\n",
              "      <td>2015-02-24 11:15:59 -0800</td>\n",
              "      <td>NaN</td>\n",
              "      <td>Pacific Time (US &amp; Canada)</td>\n",
              "    </tr>\n",
              "    <tr>\n",
              "      <th>2</th>\n",
              "      <td>570301083672813571</td>\n",
              "      <td>neutral</td>\n",
              "      <td>0.6837</td>\n",
              "      <td>NaN</td>\n",
              "      <td>NaN</td>\n",
              "      <td>Virgin America</td>\n",
              "      <td>NaN</td>\n",
              "      <td>yvonnalynn</td>\n",
              "      <td>NaN</td>\n",
              "      <td>0</td>\n",
              "      <td>@VirginAmerica I didn't today... Must mean I n...</td>\n",
              "      <td>NaN</td>\n",
              "      <td>2015-02-24 11:15:48 -0800</td>\n",
              "      <td>Lets Play</td>\n",
              "      <td>Central Time (US &amp; Canada)</td>\n",
              "    </tr>\n",
              "    <tr>\n",
              "      <th>3</th>\n",
              "      <td>570301031407624196</td>\n",
              "      <td>negative</td>\n",
              "      <td>1.0000</td>\n",
              "      <td>Bad Flight</td>\n",
              "      <td>0.7033</td>\n",
              "      <td>Virgin America</td>\n",
              "      <td>NaN</td>\n",
              "      <td>jnardino</td>\n",
              "      <td>NaN</td>\n",
              "      <td>0</td>\n",
              "      <td>@VirginAmerica it's really aggressive to blast...</td>\n",
              "      <td>NaN</td>\n",
              "      <td>2015-02-24 11:15:36 -0800</td>\n",
              "      <td>NaN</td>\n",
              "      <td>Pacific Time (US &amp; Canada)</td>\n",
              "    </tr>\n",
              "    <tr>\n",
              "      <th>4</th>\n",
              "      <td>570300817074462722</td>\n",
              "      <td>negative</td>\n",
              "      <td>1.0000</td>\n",
              "      <td>Can't Tell</td>\n",
              "      <td>1.0000</td>\n",
              "      <td>Virgin America</td>\n",
              "      <td>NaN</td>\n",
              "      <td>jnardino</td>\n",
              "      <td>NaN</td>\n",
              "      <td>0</td>\n",
              "      <td>@VirginAmerica and it's a really big bad thing...</td>\n",
              "      <td>NaN</td>\n",
              "      <td>2015-02-24 11:14:45 -0800</td>\n",
              "      <td>NaN</td>\n",
              "      <td>Pacific Time (US &amp; Canada)</td>\n",
              "    </tr>\n",
              "    <tr>\n",
              "      <th>5</th>\n",
              "      <td>570300767074181121</td>\n",
              "      <td>negative</td>\n",
              "      <td>1.0000</td>\n",
              "      <td>Can't Tell</td>\n",
              "      <td>0.6842</td>\n",
              "      <td>Virgin America</td>\n",
              "      <td>NaN</td>\n",
              "      <td>jnardino</td>\n",
              "      <td>NaN</td>\n",
              "      <td>0</td>\n",
              "      <td>@VirginAmerica seriously would pay $30 a fligh...</td>\n",
              "      <td>NaN</td>\n",
              "      <td>2015-02-24 11:14:33 -0800</td>\n",
              "      <td>NaN</td>\n",
              "      <td>Pacific Time (US &amp; Canada)</td>\n",
              "    </tr>\n",
              "    <tr>\n",
              "      <th>6</th>\n",
              "      <td>570300616901320704</td>\n",
              "      <td>positive</td>\n",
              "      <td>0.6745</td>\n",
              "      <td>NaN</td>\n",
              "      <td>0.0000</td>\n",
              "      <td>Virgin America</td>\n",
              "      <td>NaN</td>\n",
              "      <td>cjmcginnis</td>\n",
              "      <td>NaN</td>\n",
              "      <td>0</td>\n",
              "      <td>@VirginAmerica yes, nearly every time I fly VX...</td>\n",
              "      <td>NaN</td>\n",
              "      <td>2015-02-24 11:13:57 -0800</td>\n",
              "      <td>San Francisco CA</td>\n",
              "      <td>Pacific Time (US &amp; Canada)</td>\n",
              "    </tr>\n",
              "    <tr>\n",
              "      <th>7</th>\n",
              "      <td>570300248553349120</td>\n",
              "      <td>neutral</td>\n",
              "      <td>0.6340</td>\n",
              "      <td>NaN</td>\n",
              "      <td>NaN</td>\n",
              "      <td>Virgin America</td>\n",
              "      <td>NaN</td>\n",
              "      <td>pilot</td>\n",
              "      <td>NaN</td>\n",
              "      <td>0</td>\n",
              "      <td>@VirginAmerica Really missed a prime opportuni...</td>\n",
              "      <td>NaN</td>\n",
              "      <td>2015-02-24 11:12:29 -0800</td>\n",
              "      <td>Los Angeles</td>\n",
              "      <td>Pacific Time (US &amp; Canada)</td>\n",
              "    </tr>\n",
              "    <tr>\n",
              "      <th>8</th>\n",
              "      <td>570299953286942721</td>\n",
              "      <td>positive</td>\n",
              "      <td>0.6559</td>\n",
              "      <td>NaN</td>\n",
              "      <td>NaN</td>\n",
              "      <td>Virgin America</td>\n",
              "      <td>NaN</td>\n",
              "      <td>dhepburn</td>\n",
              "      <td>NaN</td>\n",
              "      <td>0</td>\n",
              "      <td>@virginamerica Well, I didn't…but NOW I DO! :-D</td>\n",
              "      <td>NaN</td>\n",
              "      <td>2015-02-24 11:11:19 -0800</td>\n",
              "      <td>San Diego</td>\n",
              "      <td>Pacific Time (US &amp; Canada)</td>\n",
              "    </tr>\n",
              "    <tr>\n",
              "      <th>9</th>\n",
              "      <td>570295459631263746</td>\n",
              "      <td>positive</td>\n",
              "      <td>1.0000</td>\n",
              "      <td>NaN</td>\n",
              "      <td>NaN</td>\n",
              "      <td>Virgin America</td>\n",
              "      <td>NaN</td>\n",
              "      <td>YupitsTate</td>\n",
              "      <td>NaN</td>\n",
              "      <td>0</td>\n",
              "      <td>@VirginAmerica it was amazing, and arrived an ...</td>\n",
              "      <td>NaN</td>\n",
              "      <td>2015-02-24 10:53:27 -0800</td>\n",
              "      <td>Los Angeles</td>\n",
              "      <td>Eastern Time (US &amp; Canada)</td>\n",
              "    </tr>\n",
              "  </tbody>\n",
              "</table>\n",
              "</div>"
            ],
            "text/plain": [
              "             tweet_id  ...               user_timezone\n",
              "0  570306133677760513  ...  Eastern Time (US & Canada)\n",
              "1  570301130888122368  ...  Pacific Time (US & Canada)\n",
              "2  570301083672813571  ...  Central Time (US & Canada)\n",
              "3  570301031407624196  ...  Pacific Time (US & Canada)\n",
              "4  570300817074462722  ...  Pacific Time (US & Canada)\n",
              "5  570300767074181121  ...  Pacific Time (US & Canada)\n",
              "6  570300616901320704  ...  Pacific Time (US & Canada)\n",
              "7  570300248553349120  ...  Pacific Time (US & Canada)\n",
              "8  570299953286942721  ...  Pacific Time (US & Canada)\n",
              "9  570295459631263746  ...  Eastern Time (US & Canada)\n",
              "\n",
              "[10 rows x 15 columns]"
            ]
          },
          "metadata": {
            "tags": []
          },
          "execution_count": 2
        }
      ]
    },
    {
      "cell_type": "code",
      "metadata": {
        "id": "co7AkosBtvS-",
        "colab_type": "code",
        "outputId": "a46f3ed5-c744-4971-975c-de67bcf97b47",
        "colab": {
          "base_uri": "https://localhost:8080/",
          "height": 317
        }
      },
      "source": [
        "%matplotlib inline\n",
        "data['airline_sentiment'].value_counts().plot(kind='bar') #plot data by sentiments"
      ],
      "execution_count": 3,
      "outputs": [
        {
          "output_type": "execute_result",
          "data": {
            "text/plain": [
              "<matplotlib.axes._subplots.AxesSubplot at 0x7f6b7cccf5c0>"
            ]
          },
          "metadata": {
            "tags": []
          },
          "execution_count": 3
        },
        {
          "output_type": "display_data",
          "data": {
            "image/png": "[encoded data removed]",
            "text/plain": [
              "<Figure size 432x288 with 1 Axes>"
            ]
          },
          "metadata": {
            "tags": []
          }
        }
      ]
    },
    {
      "cell_type": "markdown",
      "metadata": {
        "id": "O63U9iPdUn1I",
        "colab_type": "text"
      },
      "source": [
        "* The histograph above shows that there're more negative comments than other categories. It could be that people prefer to tweet about airlines when they are dissatisfied with the airline. \n",
        "* From the graph below, United airline, US Airway, and American airline have the most tweets. Virgin America has the least tweets. The total number of positive and neutral tweets are less than 50% of the total tweets per each airlines. However, this is not the case for 3 airlines, Delta, Southwest and Virgin airlines. One reason could be the limited number of tweets in this dataset while most tweets are negative. \n",
        "* If we were to study how Twitter users' sentiment on airlines, obtaining tweets from over a year at random time and settings would be more useful."
      ]
    },
    {
      "cell_type": "code",
      "metadata": {
        "id": "Z__KptfPvjJe",
        "colab_type": "code",
        "outputId": "1081e334-52fd-4475-836d-c9cf1afdf979",
        "colab": {
          "base_uri": "https://localhost:8080/",
          "height": 419
        }
      },
      "source": [
        "data.groupby(['airline', 'airline_sentiment']).size().unstack().plot(kind='bar',figsize=(10, 5),stacked=True)"
      ],
      "execution_count": 4,
      "outputs": [
        {
          "output_type": "execute_result",
          "data": {
            "text/plain": [
              "<matplotlib.axes._subplots.AxesSubplot at 0x7f6b7c7b4da0>"
            ]
          },
          "metadata": {
            "tags": []
          },
          "execution_count": 4
        },
        {
          "output_type": "display_data",
          "data": {
            "image/png": "[encoded data removed]",
            "text/plain": [
              "<Figure size 720x360 with 1 Axes>"
            ]
          },
          "metadata": {
            "tags": []
          }
        }
      ]
    },
    {
      "cell_type": "code",
      "metadata": {
        "id": "Tq6-yKyavjG3",
        "colab_type": "code",
        "outputId": "4135d7c1-517e-44dd-fe78-a72fc17048a7",
        "colab": {
          "base_uri": "https://localhost:8080/",
          "height": 298
        }
      },
      "source": [
        "data['tweet_length'] = data['text'].apply(len)\n",
        "data.groupby(['tweet_length', 'airline_sentiment']).size().unstack().plot(kind='line', stacked=False)"
      ],
      "execution_count": 5,
      "outputs": [
        {
          "output_type": "execute_result",
          "data": {
            "text/plain": [
              "<matplotlib.axes._subplots.AxesSubplot at 0x7f6b7c76f3c8>"
            ]
          },
          "metadata": {
            "tags": []
          },
          "execution_count": 5
        },
        {
          "output_type": "display_data",
          "data": {
            "image/png": "[encoded data removed]",
            "text/plain": [
              "<Figure size 432x288 with 1 Axes>"
            ]
          },
          "metadata": {
            "tags": []
          }
        }
      ]
    },
    {
      "cell_type": "markdown",
      "metadata": {
        "id": "AAkl7-HiTiPV",
        "colab_type": "text"
      },
      "source": [
        "## Train Test Split:"
      ]
    },
    {
      "cell_type": "markdown",
      "metadata": {
        "id": "DW1-BaaSvx3q",
        "colab_type": "text"
      },
      "source": [
        "Make sure we are only analysing English language:"
      ]
    },
    {
      "cell_type": "code",
      "metadata": {
        "id": "IV7FYsUmtvYd",
        "colab_type": "code",
        "colab": {}
      },
      "source": [
        "def clean_ascii(text):\n",
        "    # function to remove non-ASCII chars from data\n",
        "    return ''.join(i for i in text if ord(i) < 128)"
      ],
      "execution_count": 0,
      "outputs": []
    },
    {
      "cell_type": "markdown",
      "metadata": {
        "id": "4Rf4QArVHUg8",
        "colab_type": "text"
      },
      "source": [
        "Train test split: 30% is testing set. 70% is training set."
      ]
    },
    {
      "cell_type": "code",
      "metadata": {
        "id": "lPp0qBAWv388",
        "colab_type": "code",
        "outputId": "bc300142-d84e-443c-804d-817b0423d226",
        "colab": {
          "base_uri": "https://localhost:8080/",
          "height": 312
        }
      },
      "source": [
        "df = data[['airline_sentiment', 'text']]\n",
        "train,test = train_test_split(df, test_size=0.30, random_state=42)\n",
        "train['text'] = train['text'].apply(clean_ascii)\n",
        "train.head(5)"
      ],
      "execution_count": 7,
      "outputs": [
        {
          "output_type": "stream",
          "text": [
            "/usr/local/lib/python3.6/dist-packages/ipykernel_launcher.py:3: SettingWithCopyWarning: \n",
            "A value is trying to be set on a copy of a slice from a DataFrame.\n",
            "Try using .loc[row_indexer,col_indexer] = value instead\n",
            "\n",
            "See the caveats in the documentation: http://pandas.pydata.org/pandas-docs/stable/user_guide/indexing.html#returning-a-view-versus-a-copy\n",
            "  This is separate from the ipykernel package so we can avoid doing imports until\n"
          ],
          "name": "stderr"
        },
        {
          "output_type": "execute_result",
          "data": {
            "text/html": [
              "<div>\n",
              "<style scoped>\n",
              "    .dataframe tbody tr th:only-of-type {\n",
              "        vertical-align: middle;\n",
              "    }\n",
              "\n",
              "    .dataframe tbody tr th {\n",
              "        vertical-align: top;\n",
              "    }\n",
              "\n",
              "    .dataframe thead th {\n",
              "        text-align: right;\n",
              "    }\n",
              "</style>\n",
              "<table border=\"1\" class=\"dataframe\">\n",
              "  <thead>\n",
              "    <tr style=\"text-align: right;\">\n",
              "      <th></th>\n",
              "      <th>airline_sentiment</th>\n",
              "      <th>text</th>\n",
              "    </tr>\n",
              "  </thead>\n",
              "  <tbody>\n",
              "    <tr>\n",
              "      <th>7717</th>\n",
              "      <td>neutral</td>\n",
              "      <td>@JetBlue Re: Flight 8088 SXM&amp;gt;JFK what time ...</td>\n",
              "    </tr>\n",
              "    <tr>\n",
              "      <th>13854</th>\n",
              "      <td>negative</td>\n",
              "      <td>@AmericanAir why are you still selling tickets...</td>\n",
              "    </tr>\n",
              "    <tr>\n",
              "      <th>11719</th>\n",
              "      <td>negative</td>\n",
              "      <td>@USAirways I have now called 12 times in the l...</td>\n",
              "    </tr>\n",
              "    <tr>\n",
              "      <th>239</th>\n",
              "      <td>positive</td>\n",
              "      <td>@VirginAmerica sounds like fun !</td>\n",
              "    </tr>\n",
              "    <tr>\n",
              "      <th>8582</th>\n",
              "      <td>neutral</td>\n",
              "      <td>@JetBlue Statement on #Lufthansa Incentive Off...</td>\n",
              "    </tr>\n",
              "  </tbody>\n",
              "</table>\n",
              "</div>"
            ],
            "text/plain": [
              "      airline_sentiment                                               text\n",
              "7717            neutral  @JetBlue Re: Flight 8088 SXM&gt;JFK what time ...\n",
              "13854          negative  @AmericanAir why are you still selling tickets...\n",
              "11719          negative  @USAirways I have now called 12 times in the l...\n",
              "239            positive                   @VirginAmerica sounds like fun !\n",
              "8582            neutral  @JetBlue Statement on #Lufthansa Incentive Off..."
            ]
          },
          "metadata": {
            "tags": []
          },
          "execution_count": 7
        }
      ]
    },
    {
      "cell_type": "code",
      "metadata": {
        "id": "ecgQVw_U3Dr2",
        "colab_type": "code",
        "outputId": "c5515818-10ee-4f5b-9269-8d0ad360d6ae",
        "colab": {
          "base_uri": "https://localhost:8080/",
          "height": 35
        }
      },
      "source": [
        "print(len(train),len(test))"
      ],
      "execution_count": 8,
      "outputs": [
        {
          "output_type": "stream",
          "text": [
            "10248 4392\n"
          ],
          "name": "stdout"
        }
      ]
    },
    {
      "cell_type": "markdown",
      "metadata": {
        "id": "vIsG8dY0TqQi",
        "colab_type": "text"
      },
      "source": [
        "# ULFMiT:\n"
      ]
    },
    {
      "cell_type": "markdown",
      "metadata": {
        "id": "BXXW1RSlwj9_",
        "colab_type": "text"
      },
      "source": [
        "This notebook utilizes ULMFit as implemented in the fastai GitHub repository. "
      ]
    },
    {
      "cell_type": "markdown",
      "metadata": {
        "id": "JOPpBlw1v938",
        "colab_type": "text"
      },
      "source": [
        "1. Below is the TextLMDataBunch that returns a \"Databunch\" type of object and helps assembling the raw data to be suitable for NLP. The Databunch code includes text manipulation code from the ground up and tokenization. We can take advantage of the  transfer learning functionality of ULMFit functions. Source: https://docs.fast.ai/text.data.html#Quickly-assemble-your-data\n",
        "\n",
        "2. View tokenization rules here:https://docs.fast.ai/text.transform.html#Rules"
      ]
    },
    {
      "cell_type": "code",
      "metadata": {
        "id": "16JAVcrLv_4K",
        "colab_type": "code",
        "outputId": "1f1328ff-3222-4e62-97ad-8163af5f7242",
        "colab": {
          "base_uri": "https://localhost:8080/",
          "height": 307
        }
      },
      "source": [
        "# language model: use 10% as validation set. Language model is trained to guess what the next word is inside a flow of words. \n",
        "data_lm = TextLMDataBunch.from_df(train_df = train[:-1024], valid_df=test[-1024:], path=\"\")\n",
        "data_lm.show_batch()\n",
        "# Save the language and classifier model data\n",
        "data_lm.save('data_lm.pkl')\n",
        "print(len(data_lm.train_ds))"
      ],
      "execution_count": 9,
      "outputs": [
        {
          "output_type": "display_data",
          "data": {
            "text/html": [
              ""
            ],
            "text/plain": [
              "<IPython.core.display.HTML object>"
            ]
          },
          "metadata": {
            "tags": []
          }
        },
        {
          "output_type": "display_data",
          "data": {
            "text/html": [
              ""
            ],
            "text/plain": [
              "<IPython.core.display.HTML object>"
            ]
          },
          "metadata": {
            "tags": []
          }
        },
        {
          "output_type": "display_data",
          "data": {
            "text/html": [
              "<table border=\"1\" class=\"dataframe\">\n",
              "  <thead>\n",
              "    <tr style=\"text-align: right;\">\n",
              "      <th>idx</th>\n",
              "      <th>text</th>\n",
              "    </tr>\n",
              "  </thead>\n",
              "  <tbody>\n",
              "    <tr>\n",
              "      <td>0</td>\n",
              "      <td>i 'm willing to wait on hold , but that 's not an option . xxbos @virginamerica sounds like fun ! xxbos @jetblue xxmaj statement on # xxmaj lufthansa xxmaj incentive xxmaj offer - xxmaj xxunk http : / / t.co / xxunk xxbos @americanair xxmaj thx ! i hope so . xxup iah to xxup dfw to xxup okc has turned out to be a xxup long trip today</td>\n",
              "    </tr>\n",
              "    <tr>\n",
              "      <td>1</td>\n",
              "      <td>ground staff , it has n't even been taken off the plane yet ! xxbos @usairways i am following you now xxbos @jetblue after my second call to customer service and the xxunk person i talked to , an amazing rep fixed it in about 5 mins ! :) # xxunk xxbos @southwestair so for an extra luggage , it cost $ 75 xxrep 4 ? xxbos @usairways xxmaj will</td>\n",
              "    </tr>\n",
              "    <tr>\n",
              "      <td>2</td>\n",
              "      <td>10 flights have been delayed . xxmaj huge mistake on my part . xxmaj do n't fly united xxbos @jetblue anything for you . # flyfi http : / / t.co / xxunk xxbos @united even so , change could not be made xxunk instructed to call an xxunk maybe the xxunk should allow agents 2 link passengers ! xxbos @americanair great , thanks ! xxbos @jetblue tells me $</td>\n",
              "    </tr>\n",
              "    <tr>\n",
              "      <td>3</td>\n",
              "      <td>failure in 2015 # unitedairlines xxbos @jetblue 's xxup ceo xxmaj battles to xxmaj appease xxmaj passengers and xxmaj wall xxmaj street - http : / / t.co / e5naxbue4s http : / / t.co / xxunk xxbos @united what 's the best way to get your tickets ? xxmaj print off at home or go to check in desk ? xxbos @united i would take the $ 500 voucher</td>\n",
              "    </tr>\n",
              "    <tr>\n",
              "      <td>4</td>\n",
              "      <td>yesterday . i wonder how quickly flight attendants are notified . xxbos @americanair i dmed xxbos @jetblue what is the deal with flt xxunk today ? xxmaj departure keeps changing . xxmaj when is it going why is it so xxmaj late xxmaj flight ? xxbos xxmaj yes but i will nvr fly w / @usairways i missed my con flight bc of a xxunk on xxup xxunk xxmaj could</td>\n",
              "    </tr>\n",
              "  </tbody>\n",
              "</table>"
            ],
            "text/plain": [
              "<IPython.core.display.HTML object>"
            ]
          },
          "metadata": {
            "tags": []
          }
        },
        {
          "output_type": "stream",
          "text": [
            "9224\n"
          ],
          "name": "stdout"
        }
      ]
    },
    {
      "cell_type": "markdown",
      "metadata": {
        "id": "tA4gxEPDwE8s",
        "colab_type": "text"
      },
      "source": [
        "see chunks of texts in lines"
      ]
    },
    {
      "cell_type": "code",
      "metadata": {
        "id": "woSzZnd5wAJr",
        "colab_type": "code",
        "outputId": "25d0b440-4587-40b4-8726-df142f58938b",
        "colab": {
          "base_uri": "https://localhost:8080/",
          "height": 514
        }
      },
      "source": [
        "x,y = next(iter(data_lm.train_dl))\n",
        "example = x[:15,:15].cpu()\n",
        "texts = pd.DataFrame([data_lm.train_ds.vocab.textify(l).split(' ') for l in example])\n",
        "texts"
      ],
      "execution_count": 10,
      "outputs": [
        {
          "output_type": "execute_result",
          "data": {
            "text/html": [
              "<div>\n",
              "<style scoped>\n",
              "    .dataframe tbody tr th:only-of-type {\n",
              "        vertical-align: middle;\n",
              "    }\n",
              "\n",
              "    .dataframe tbody tr th {\n",
              "        vertical-align: top;\n",
              "    }\n",
              "\n",
              "    .dataframe thead th {\n",
              "        text-align: right;\n",
              "    }\n",
              "</style>\n",
              "<table border=\"1\" class=\"dataframe\">\n",
              "  <thead>\n",
              "    <tr style=\"text-align: right;\">\n",
              "      <th></th>\n",
              "      <th>0</th>\n",
              "      <th>1</th>\n",
              "      <th>2</th>\n",
              "      <th>3</th>\n",
              "      <th>4</th>\n",
              "      <th>5</th>\n",
              "      <th>6</th>\n",
              "      <th>7</th>\n",
              "      <th>8</th>\n",
              "      <th>9</th>\n",
              "      <th>10</th>\n",
              "      <th>11</th>\n",
              "      <th>12</th>\n",
              "      <th>13</th>\n",
              "      <th>14</th>\n",
              "    </tr>\n",
              "  </thead>\n",
              "  <tbody>\n",
              "    <tr>\n",
              "      <th>0</th>\n",
              "      <td>and</td>\n",
              "      <td>i</td>\n",
              "      <td>have</td>\n",
              "      <td>to</td>\n",
              "      <td>work</td>\n",
              "      <td>tomorrow</td>\n",
              "      <td>.</td>\n",
              "      <td>xxbos</td>\n",
              "      <td>@southwestair</td>\n",
              "      <td>i</td>\n",
              "      <td>'m</td>\n",
              "      <td>trying</td>\n",
              "      <td>to</td>\n",
              "      <td>get</td>\n",
              "      <td>home</td>\n",
              "    </tr>\n",
              "    <tr>\n",
              "      <th>1</th>\n",
              "      <td>do</td>\n",
              "      <td>.</td>\n",
              "      <td>i</td>\n",
              "      <td>appreciate</td>\n",
              "      <td>the</td>\n",
              "      <td>response</td>\n",
              "      <td>.</td>\n",
              "      <td>xxbos</td>\n",
              "      <td>@southwestair</td>\n",
              "      <td>xxunk</td>\n",
              "      <td>over</td>\n",
              "      <td>two</td>\n",
              "      <td>hours</td>\n",
              "      <td>now</td>\n",
              "      <td>.</td>\n",
              "    </tr>\n",
              "    <tr>\n",
              "      <th>2</th>\n",
              "      <td>130</td>\n",
              "      <td>paid</td>\n",
              "      <td>&amp;</td>\n",
              "      <td>&amp;</td>\n",
              "      <td>confirmed</td>\n",
              "      <td>flight</td>\n",
              "      <td>will</td>\n",
              "      <td>now</td>\n",
              "      <td>cost</td>\n",
              "      <td>me</td>\n",
              "      <td>$</td>\n",
              "      <td>xxunk</td>\n",
              "      <td>xxup</td>\n",
              "      <td>cash</td>\n",
              "      <td>xxup</td>\n",
              "    </tr>\n",
              "    <tr>\n",
              "      <th>3</th>\n",
              "      <td>you</td>\n",
              "      <td>offered</td>\n",
              "      <td>for</td>\n",
              "      <td>xxup</td>\n",
              "      <td>xxunk</td>\n",
              "      <td>xxup</td>\n",
              "      <td>the</td>\n",
              "      <td>#</td>\n",
              "      <td>xxup</td>\n",
              "      <td>of</td>\n",
              "      <td>xxup</td>\n",
              "      <td>seats</td>\n",
              "      <td>xxup</td>\n",
              "      <td>on</td>\n",
              "      <td>xxup</td>\n",
              "    </tr>\n",
              "    <tr>\n",
              "      <th>4</th>\n",
              "      <td>n't</td>\n",
              "      <td>see</td>\n",
              "      <td>my</td>\n",
              "      <td>father</td>\n",
              "      <td>xxunk</td>\n",
              "      <td>they</td>\n",
              "      <td>put</td>\n",
              "      <td>him</td>\n",
              "      <td>in</td>\n",
              "      <td>a</td>\n",
              "      <td>xxunk</td>\n",
              "      <td>xxbos</td>\n",
              "      <td>@united</td>\n",
              "      <td>.</td>\n",
              "      <td>epic</td>\n",
              "    </tr>\n",
              "    <tr>\n",
              "      <th>5</th>\n",
              "      <td>i</td>\n",
              "      <td>can</td>\n",
              "      <td>talk</td>\n",
              "      <td>to</td>\n",
              "      <td>?</td>\n",
              "      <td>xxbos</td>\n",
              "      <td>@usairways</td>\n",
              "      <td>they</td>\n",
              "      <td>call</td>\n",
              "      <td>weather</td>\n",
              "      <td>an</td>\n",
              "      <td>act</td>\n",
              "      <td>of</td>\n",
              "      <td>xxmaj</td>\n",
              "      <td>god</td>\n",
              "    </tr>\n",
              "    <tr>\n",
              "      <th>6</th>\n",
              "      <td>@united</td>\n",
              "      <td>xxmaj</td>\n",
              "      <td>apart</td>\n",
              "      <td>from</td>\n",
              "      <td>being</td>\n",
              "      <td>on</td>\n",
              "      <td>hold</td>\n",
              "      <td>for</td>\n",
              "      <td>over</td>\n",
              "      <td>2</td>\n",
              "      <td>hours</td>\n",
              "      <td>and</td>\n",
              "      <td>having</td>\n",
              "      <td>talked</td>\n",
              "      <td>to</td>\n",
              "    </tr>\n",
              "    <tr>\n",
              "      <th>7</th>\n",
              "      <td>help</td>\n",
              "      <td>?</td>\n",
              "      <td>!</td>\n",
              "      <td>xxbos</td>\n",
              "      <td>@americanair</td>\n",
              "      <td>i</td>\n",
              "      <td>have</td>\n",
              "      <td>been</td>\n",
              "      <td>rebooked</td>\n",
              "      <td>for</td>\n",
              "      <td>the</td>\n",
              "      <td>7</td>\n",
              "      <td>am</td>\n",
              "      <td>flight</td>\n",
              "      <td>.</td>\n",
              "    </tr>\n",
              "    <tr>\n",
              "      <th>8</th>\n",
              "      <td>me</td>\n",
              "      <td>to</td>\n",
              "      <td>buy</td>\n",
              "      <td>the</td>\n",
              "      <td>xxunk</td>\n",
              "      <td>tickets</td>\n",
              "      <td>xxbos</td>\n",
              "      <td>@jetblue</td>\n",
              "      <td>figured</td>\n",
              "      <td>it</td>\n",
              "      <td>out</td>\n",
              "      <td>4</td>\n",
              "      <td>flight</td>\n",
              "      <td>xxunk</td>\n",
              "      <td>.</td>\n",
              "    </tr>\n",
              "    <tr>\n",
              "      <th>9</th>\n",
              "      <td>bad</td>\n",
              "      <td>weather</td>\n",
              "      <td>,</td>\n",
              "      <td>but</td>\n",
              "      <td>closes</td>\n",
              "      <td>down</td>\n",
              "      <td>customer</td>\n",
              "      <td>relations</td>\n",
              "      <td>center</td>\n",
              "      <td>to</td>\n",
              "      <td>process</td>\n",
              "      <td>refunds</td>\n",
              "      <td>for</td>\n",
              "      <td>xxmaj</td>\n",
              "      <td>cancelled</td>\n",
              "    </tr>\n",
              "    <tr>\n",
              "      <th>10</th>\n",
              "      <td>what</td>\n",
              "      <td>an</td>\n",
              "      <td>amazing</td>\n",
              "      <td>video</td>\n",
              "      <td>https</td>\n",
              "      <td>:</td>\n",
              "      <td>/</td>\n",
              "      <td>/</td>\n",
              "      <td>t.co</td>\n",
              "      <td>/</td>\n",
              "      <td>xxunk</td>\n",
              "      <td>xxmaj</td>\n",
              "      <td>great</td>\n",
              "      <td>world</td>\n",
              "      <td>xxmaj</td>\n",
              "    </tr>\n",
              "    <tr>\n",
              "      <th>11</th>\n",
              "      <td>thanks</td>\n",
              "      <td>for</td>\n",
              "      <td>having</td>\n",
              "      <td>us</td>\n",
              "      <td>hang</td>\n",
              "      <td>out</td>\n",
              "      <td>at</td>\n",
              "      <td>xxmaj</td>\n",
              "      <td>tampa</td>\n",
              "      <td>xxmaj</td>\n",
              "      <td>airport</td>\n",
              "      <td>forever</td>\n",
              "      <td>today</td>\n",
              "      <td>!</td>\n",
              "      <td>!</td>\n",
              "    </tr>\n",
              "    <tr>\n",
              "      <th>12</th>\n",
              "      <td>without</td>\n",
              "      <td>a</td>\n",
              "      <td>xxunk</td>\n",
              "      <td>line</td>\n",
              "      <td>for</td>\n",
              "      <td>status</td>\n",
              "      <td>members</td>\n",
              "      <td>xxbos</td>\n",
              "      <td>@americanair</td>\n",
              "      <td>flight</td>\n",
              "      <td>65</td>\n",
              "      <td>delayed</td>\n",
              "      <td>over</td>\n",
              "      <td>4</td>\n",
              "      <td>hours</td>\n",
              "    </tr>\n",
              "    <tr>\n",
              "      <th>13</th>\n",
              "      <td>:</td>\n",
              "      <td>/</td>\n",
              "      <td>/</td>\n",
              "      <td>t.co</td>\n",
              "      <td>/</td>\n",
              "      <td>xxunk</td>\n",
              "      <td>xxbos</td>\n",
              "      <td>@usairways</td>\n",
              "      <td>stuck</td>\n",
              "      <td>on</td>\n",
              "      <td>the</td>\n",
              "      <td>ramp</td>\n",
              "      <td>at</td>\n",
              "      <td>xxup</td>\n",
              "      <td>dca</td>\n",
              "    </tr>\n",
              "    <tr>\n",
              "      <th>14</th>\n",
              "      <td>:</td>\n",
              "      <td>/</td>\n",
              "      <td>/</td>\n",
              "      <td>t.co</td>\n",
              "      <td>/</td>\n",
              "      <td>xxunk</td>\n",
              "      <td>xxbos</td>\n",
              "      <td>@united</td>\n",
              "      <td>i</td>\n",
              "      <td>would</td>\n",
              "      <td>like</td>\n",
              "      <td>2</td>\n",
              "      <td>speak</td>\n",
              "      <td>@united</td>\n",
              "      <td>xxup</td>\n",
              "    </tr>\n",
              "  </tbody>\n",
              "</table>\n",
              "</div>"
            ],
            "text/plain": [
              "         0        1        2           3   ...       11       12       13         14\n",
              "0       and        i     have          to  ...   trying       to      get       home\n",
              "1        do        .        i  appreciate  ...      two    hours      now          .\n",
              "2       130     paid        &           &  ...    xxunk     xxup     cash       xxup\n",
              "3       you  offered      for        xxup  ...    seats     xxup       on       xxup\n",
              "4       n't      see       my      father  ...    xxbos  @united        .       epic\n",
              "5         i      can     talk          to  ...      act       of    xxmaj        god\n",
              "6   @united    xxmaj    apart        from  ...      and   having   talked         to\n",
              "7      help        ?        !       xxbos  ...        7       am   flight          .\n",
              "8        me       to      buy         the  ...        4   flight    xxunk          .\n",
              "9       bad  weather        ,         but  ...  refunds      for    xxmaj  cancelled\n",
              "10     what       an  amazing       video  ...    xxmaj    great    world      xxmaj\n",
              "11   thanks      for   having          us  ...  forever    today        !          !\n",
              "12  without        a    xxunk        line  ...  delayed     over        4      hours\n",
              "13        :        /        /        t.co  ...     ramp       at     xxup        dca\n",
              "14        :        /        /        t.co  ...        2    speak  @united       xxup\n",
              "\n",
              "[15 rows x 15 columns]"
            ]
          },
          "metadata": {
            "tags": []
          },
          "execution_count": 10
        }
      ]
    },
    {
      "cell_type": "markdown",
      "metadata": {
        "id": "Hd5jsmm8H7re",
        "colab_type": "text"
      },
      "source": [
        "See the number of vocabs:"
      ]
    },
    {
      "cell_type": "code",
      "metadata": {
        "id": "X2wQwmVdwMFz",
        "colab_type": "code",
        "outputId": "6fbba55c-42c0-438c-ce97-1a14f9eae076",
        "colab": {
          "base_uri": "https://localhost:8080/",
          "height": 35
        }
      },
      "source": [
        "data_lm.vocab.itos[:10]\n",
        "print(len(data_lm.vocab.itos))"
      ],
      "execution_count": 11,
      "outputs": [
        {
          "output_type": "stream",
          "text": [
            "5008\n"
          ],
          "name": "stdout"
        }
      ]
    },
    {
      "cell_type": "markdown",
      "metadata": {
        "id": "SsmwpeMvwIKA",
        "colab_type": "text"
      },
      "source": [
        "Define Learning Object:\n",
        "See below for the architecture of AWD_LSTM\n"
      ]
    },
    {
      "cell_type": "code",
      "metadata": {
        "id": "AsM4TIZhwjZf",
        "colab_type": "code",
        "outputId": "c3ac30ca-941b-40f1-9cc6-416b672889e4",
        "colab": {
          "base_uri": "https://localhost:8080/",
          "height": 485
        }
      },
      "source": [
        "learn_AWD = language_model_learner(data_lm,  AWD_LSTM, drop_mult=0.5)\n",
        "\n",
        "list(learn_AWD.model.children())"
      ],
      "execution_count": 12,
      "outputs": [
        {
          "output_type": "execute_result",
          "data": {
            "text/plain": [
              "[AWD_LSTM(\n",
              "   (encoder): Embedding(5008, 400, padding_idx=1)\n",
              "   (encoder_dp): EmbeddingDropout(\n",
              "     (emb): Embedding(5008, 400, padding_idx=1)\n",
              "   )\n",
              "   (rnns): ModuleList(\n",
              "     (0): WeightDropout(\n",
              "       (module): LSTM(400, 1152, batch_first=True)\n",
              "     )\n",
              "     (1): WeightDropout(\n",
              "       (module): LSTM(1152, 1152, batch_first=True)\n",
              "     )\n",
              "     (2): WeightDropout(\n",
              "       (module): LSTM(1152, 400, batch_first=True)\n",
              "     )\n",
              "   )\n",
              "   (input_dp): RNNDropout()\n",
              "   (hidden_dps): ModuleList(\n",
              "     (0): RNNDropout()\n",
              "     (1): RNNDropout()\n",
              "     (2): RNNDropout()\n",
              "   )\n",
              " ), LinearDecoder(\n",
              "   (decoder): Linear(in_features=400, out_features=5008, bias=True)\n",
              "   (output_dp): RNNDropout()\n",
              " )]"
            ]
          },
          "metadata": {
            "tags": []
          },
          "execution_count": 12
        }
      ]
    },
    {
      "cell_type": "markdown",
      "metadata": {
        "id": "Onk2oNogXlNM",
        "colab_type": "text"
      },
      "source": [
        "## Learning Rate: "
      ]
    },
    {
      "cell_type": "markdown",
      "metadata": {
        "id": "JACqUg-ZxR_F",
        "colab_type": "text"
      },
      "source": [
        "* The learning rate finder train the model over the duration of 1 epoch at a very low learning rate to begin with, and gradually increasing it over time, multiplying it by a given factor at each mini-batch, until it reaches 1, whilst recording the loss at each timestep.\n",
        "* source function for lr_find: https://github.com/fastai/fastai/blob/050080be574cb1260462bbd03e9600e43e7a54b1/fastai/train.py#L23\n",
        "* recorder.plot is to show the graph."
      ]
    },
    {
      "cell_type": "code",
      "metadata": {
        "id": "sbx8nOw-wk1K",
        "colab_type": "code",
        "outputId": "d0852861-877b-4d70-e4bd-40380d9fbea3",
        "colab": {
          "base_uri": "https://localhost:8080/",
          "height": 145
        }
      },
      "source": [
        "learn_AWD.lr_find()"
      ],
      "execution_count": 13,
      "outputs": [
        {
          "output_type": "display_data",
          "data": {
            "text/html": [
              "\n",
              "    <div>\n",
              "        <style>\n",
              "            /* Turns off some styling */\n",
              "            progress {\n",
              "                /* gets rid of default border in Firefox and Opera. */\n",
              "                border: none;\n",
              "                /* Needs to be in here for Safari polyfill so background images work as expected. */\n",
              "                background-size: auto;\n",
              "            }\n",
              "            .progress-bar-interrupted, .progress-bar-interrupted::-webkit-progress-bar {\n",
              "                background: #F44336;\n",
              "            }\n",
              "        </style>\n",
              "      <progress value='1' class='' max='2', style='width:300px; height:20px; vertical-align: middle;'></progress>\n",
              "      50.00% [1/2 00:06<00:06]\n",
              "    </div>\n",
              "    \n",
              "<table border=\"1\" class=\"dataframe\">\n",
              "  <thead>\n",
              "    <tr style=\"text-align: left;\">\n",
              "      <th>epoch</th>\n",
              "      <th>train_loss</th>\n",
              "      <th>valid_loss</th>\n",
              "      <th>accuracy</th>\n",
              "      <th>time</th>\n",
              "    </tr>\n",
              "  </thead>\n",
              "  <tbody>\n",
              "    <tr>\n",
              "      <td>0</td>\n",
              "      <td>6.525021</td>\n",
              "      <td>#na#</td>\n",
              "      <td>00:06</td>\n",
              "    </tr>\n",
              "  </tbody>\n",
              "</table><p>\n",
              "\n",
              "    <div>\n",
              "        <style>\n",
              "            /* Turns off some styling */\n",
              "            progress {\n",
              "                /* gets rid of default border in Firefox and Opera. */\n",
              "                border: none;\n",
              "                /* Needs to be in here for Safari polyfill so background images work as expected. */\n",
              "                background-size: auto;\n",
              "            }\n",
              "            .progress-bar-interrupted, .progress-bar-interrupted::-webkit-progress-bar {\n",
              "                background: #F44336;\n",
              "            }\n",
              "        </style>\n",
              "      <progress value='49' class='' max='50', style='width:300px; height:20px; vertical-align: middle;'></progress>\n",
              "      98.00% [49/50 00:06<00:00 10.1407]\n",
              "    </div>\n",
              "    "
            ],
            "text/plain": [
              "<IPython.core.display.HTML object>"
            ]
          },
          "metadata": {
            "tags": []
          }
        },
        {
          "output_type": "stream",
          "text": [
            "LR Finder is complete, type {learner_name}.recorder.plot() to see the graph.\n"
          ],
          "name": "stdout"
        }
      ]
    },
    {
      "cell_type": "markdown",
      "metadata": {
        "id": "FN-q0U5UxVya",
        "colab_type": "text"
      },
      "source": [
        "According to the graph below, the loss gradually decrease to a minimum before it drastically increase. We could set learning rate at a point that is about a factor of 10 lower than the minimum."
      ]
    },
    {
      "cell_type": "code",
      "metadata": {
        "id": "gZrEbs__xTDl",
        "colab_type": "code",
        "outputId": "c1591183-2deb-48b4-f587-a68f4b2f11f4",
        "colab": {
          "base_uri": "https://localhost:8080/",
          "height": 315
        }
      },
      "source": [
        "learn_AWD.recorder.plot(suggestion=True)"
      ],
      "execution_count": 14,
      "outputs": [
        {
          "output_type": "stream",
          "text": [
            "Min numerical gradient: 4.79E-02\n",
            "Min loss divided by 10: 6.31E-02\n"
          ],
          "name": "stdout"
        },
        {
          "output_type": "display_data",
          "data": {
            "image/png": "[encoded data removed]",
            "text/plain": [
              "<Figure size 432x288 with 1 Axes>"
            ]
          },
          "metadata": {
            "tags": []
          }
        }
      ]
    },
    {
      "cell_type": "code",
      "metadata": {
        "id": "86U3Z_8IxTH0",
        "colab_type": "code",
        "outputId": "211e3192-9271-4120-f10f-faaf9548bcb9",
        "colab": {
          "base_uri": "https://localhost:8080/",
          "height": 279
        }
      },
      "source": [
        "learn_AWD.recorder.plot_lr()"
      ],
      "execution_count": 15,
      "outputs": [
        {
          "output_type": "display_data",
          "data": {
            "image/png": "[encoded data removed]",
            "text/plain": [
              "<Figure size 432x288 with 1 Axes>"
            ]
          },
          "metadata": {
            "tags": []
          }
        }
      ]
    },
    {
      "cell_type": "code",
      "metadata": {
        "id": "HIZ8Om6X0XfW",
        "colab_type": "code",
        "colab": {}
      },
      "source": [
        "#for GPU mixed precision can be as simple as adding one line of code or enabling a single environment variable, to speed up process\n",
        "learn_AWD = learn_AWD.to_fp16(clip=0.1)"
      ],
      "execution_count": 0,
      "outputs": []
    },
    {
      "cell_type": "markdown",
      "metadata": {
        "id": "ky_djM7kI3hZ",
        "colab_type": "text"
      },
      "source": [
        "## Slanted Triangular Learning Rates:"
      ]
    },
    {
      "cell_type": "code",
      "metadata": {
        "id": "2ltgSf9Fxba9",
        "colab_type": "code",
        "outputId": "96e79943-3b96-41b1-a8a8-952528d0248e",
        "colab": {
          "base_uri": "https://localhost:8080/",
          "height": 80
        }
      },
      "source": [
        "learn_AWD.fit_one_cycle(1, max_lr=1e-3, moms=(0.8,0.7))\n",
        "learn_AWD.save('fit_head')"
      ],
      "execution_count": 17,
      "outputs": [
        {
          "output_type": "display_data",
          "data": {
            "text/html": [
              "<table border=\"1\" class=\"dataframe\">\n",
              "  <thead>\n",
              "    <tr style=\"text-align: left;\">\n",
              "      <th>epoch</th>\n",
              "      <th>train_loss</th>\n",
              "      <th>valid_loss</th>\n",
              "      <th>accuracy</th>\n",
              "      <th>time</th>\n",
              "    </tr>\n",
              "  </thead>\n",
              "  <tbody>\n",
              "    <tr>\n",
              "      <td>0</td>\n",
              "      <td>6.124083</td>\n",
              "      <td>5.754877</td>\n",
              "      <td>0.162240</td>\n",
              "      <td>00:04</td>\n",
              "    </tr>\n",
              "  </tbody>\n",
              "</table>"
            ],
            "text/plain": [
              "<IPython.core.display.HTML object>"
            ]
          },
          "metadata": {
            "tags": []
          }
        }
      ]
    },
    {
      "cell_type": "markdown",
      "metadata": {
        "id": "mFeXlhpjIgo-",
        "colab_type": "text"
      },
      "source": [
        "Slated triangular learning rates from ULFMiT. According to the plot below, cut occurs around iteration 15."
      ]
    },
    {
      "cell_type": "code",
      "metadata": {
        "id": "MX2Qv1q209R0",
        "colab_type": "code",
        "outputId": "59f1a8e6-4e4d-4b67-ddc6-909f36984f6b",
        "colab": {
          "base_uri": "https://localhost:8080/",
          "height": 279
        }
      },
      "source": [
        "learn_AWD.recorder.plot_lr()"
      ],
      "execution_count": 18,
      "outputs": [
        {
          "output_type": "display_data",
          "data": {
            "image/png": "[encoded data removed]",
            "text/plain": [
              "<Figure size 432x288 with 1 Axes>"
            ]
          },
          "metadata": {
            "tags": []
          }
        }
      ]
    },
    {
      "cell_type": "markdown",
      "metadata": {
        "id": "4Ra321fi28OM",
        "colab_type": "text"
      },
      "source": [
        "To train the language model during fine-tuning, we unfreeze all the layers and then perform training for a reasonable time until we obtain a low enough validation loss. Since the vocab dictionary is relatively small, we can see validation loss decreasing to a local minimum quickly."
      ]
    },
    {
      "cell_type": "code",
      "metadata": {
        "id": "U_XbOp-ixbjN",
        "colab_type": "code",
        "outputId": "2c524332-1a17-495f-b0e3-7f80740e23b2",
        "colab": {
          "base_uri": "https://localhost:8080/",
          "height": 359
        }
      },
      "source": [
        "learn_AWD.unfreeze()\n",
        "learn_AWD.fit_one_cycle(cyc_len=10, max_lr=1e-3, moms=(0.8,0.7))"
      ],
      "execution_count": 19,
      "outputs": [
        {
          "output_type": "display_data",
          "data": {
            "text/html": [
              "<table border=\"1\" class=\"dataframe\">\n",
              "  <thead>\n",
              "    <tr style=\"text-align: left;\">\n",
              "      <th>epoch</th>\n",
              "      <th>train_loss</th>\n",
              "      <th>valid_loss</th>\n",
              "      <th>accuracy</th>\n",
              "      <th>time</th>\n",
              "    </tr>\n",
              "  </thead>\n",
              "  <tbody>\n",
              "    <tr>\n",
              "      <td>0</td>\n",
              "      <td>5.076209</td>\n",
              "      <td>4.564798</td>\n",
              "      <td>0.222656</td>\n",
              "      <td>00:06</td>\n",
              "    </tr>\n",
              "    <tr>\n",
              "      <td>1</td>\n",
              "      <td>4.533126</td>\n",
              "      <td>4.010619</td>\n",
              "      <td>0.263691</td>\n",
              "      <td>00:06</td>\n",
              "    </tr>\n",
              "    <tr>\n",
              "      <td>2</td>\n",
              "      <td>4.138216</td>\n",
              "      <td>3.808228</td>\n",
              "      <td>0.279315</td>\n",
              "      <td>00:06</td>\n",
              "    </tr>\n",
              "    <tr>\n",
              "      <td>3</td>\n",
              "      <td>3.839760</td>\n",
              "      <td>3.730129</td>\n",
              "      <td>0.287202</td>\n",
              "      <td>00:06</td>\n",
              "    </tr>\n",
              "    <tr>\n",
              "      <td>4</td>\n",
              "      <td>3.559006</td>\n",
              "      <td>3.718160</td>\n",
              "      <td>0.290327</td>\n",
              "      <td>00:06</td>\n",
              "    </tr>\n",
              "    <tr>\n",
              "      <td>5</td>\n",
              "      <td>3.301450</td>\n",
              "      <td>3.740975</td>\n",
              "      <td>0.287686</td>\n",
              "      <td>00:06</td>\n",
              "    </tr>\n",
              "    <tr>\n",
              "      <td>6</td>\n",
              "      <td>3.059934</td>\n",
              "      <td>3.779738</td>\n",
              "      <td>0.287537</td>\n",
              "      <td>00:06</td>\n",
              "    </tr>\n",
              "    <tr>\n",
              "      <td>7</td>\n",
              "      <td>2.855597</td>\n",
              "      <td>3.835257</td>\n",
              "      <td>0.287165</td>\n",
              "      <td>00:06</td>\n",
              "    </tr>\n",
              "    <tr>\n",
              "      <td>8</td>\n",
              "      <td>2.715097</td>\n",
              "      <td>3.867556</td>\n",
              "      <td>0.284524</td>\n",
              "      <td>00:06</td>\n",
              "    </tr>\n",
              "    <tr>\n",
              "      <td>9</td>\n",
              "      <td>2.641247</td>\n",
              "      <td>3.876323</td>\n",
              "      <td>0.284896</td>\n",
              "      <td>00:06</td>\n",
              "    </tr>\n",
              "  </tbody>\n",
              "</table>"
            ],
            "text/plain": [
              "<IPython.core.display.HTML object>"
            ]
          },
          "metadata": {
            "tags": []
          }
        }
      ]
    },
    {
      "cell_type": "code",
      "metadata": {
        "id": "HTOQxfW6xbx_",
        "colab_type": "code",
        "colab": {}
      },
      "source": [
        "learn_AWD.save('fine_tuned')\n",
        "# Save the fine-tuned encoder\n",
        "learn_AWD.save_encoder('fit_enc')"
      ],
      "execution_count": 0,
      "outputs": []
    },
    {
      "cell_type": "markdown",
      "metadata": {
        "id": "GKBb8W7wxu4Y",
        "colab_type": "text"
      },
      "source": [
        "## Classifier:"
      ]
    },
    {
      "cell_type": "code",
      "metadata": {
        "id": "o1-47YdMxvbA",
        "colab_type": "code",
        "outputId": "2336213c-3a48-43db-e89c-edb331dc9de9",
        "colab": {
          "base_uri": "https://localhost:8080/",
          "height": 289
        }
      },
      "source": [
        "# load the data for the forward classifier model using the same language model vocabular so that it'll be able to load the encoder 'fit_enc' created above\n",
        "data_clas = (TextList.from_df(train, vocab=data_lm.train_ds.vocab,cols='text')\n",
        "                          .split_by_rand_pct(0.1, seed=42) \n",
        "                          .label_from_df(cols='airline_sentiment')\n",
        "                          .databunch(bs=128))\n",
        "\n",
        "data_clas.save('data_clas.pkl')\n",
        "data_clas.show_batch()"
      ],
      "execution_count": 21,
      "outputs": [
        {
          "output_type": "display_data",
          "data": {
            "text/html": [
              ""
            ],
            "text/plain": [
              "<IPython.core.display.HTML object>"
            ]
          },
          "metadata": {
            "tags": []
          }
        },
        {
          "output_type": "display_data",
          "data": {
            "text/html": [
              ""
            ],
            "text/plain": [
              "<IPython.core.display.HTML object>"
            ]
          },
          "metadata": {
            "tags": []
          }
        },
        {
          "output_type": "display_data",
          "data": {
            "text/html": [
              "<table border=\"1\" class=\"dataframe\">\n",
              "  <thead>\n",
              "    <tr style=\"text-align: right;\">\n",
              "      <th>text</th>\n",
              "      <th>target</th>\n",
              "    </tr>\n",
              "  </thead>\n",
              "  <tbody>\n",
              "    <tr>\n",
              "      <td>xxbos @united xxup where xxup is xxup my xxup fucking xxup bag ? ! ? ! xxmaj where the fuck is my fucking bag ? ? ? xxup tell xxup me xxup now xxup or xxup give xxup me a xxup number xxup to xxup call a xxup human . xxup san68059 m</td>\n",
              "      <td>negative</td>\n",
              "    </tr>\n",
              "    <tr>\n",
              "      <td>xxbos @southwestair xxmaj the xxmaj fact xxmaj that u xxmaj see xxmaj black xxmaj history xxmaj month 12 xxmaj months a xxmaj year xxmaj is xxmaj xxunk ! xxmaj we xxup will xxup be xxmaj an xxmaj xxunk xxmaj base xxmaj for xxmaj xxunk xxmaj like u xxmaj in xxmaj future !</td>\n",
              "      <td>positive</td>\n",
              "    </tr>\n",
              "    <tr>\n",
              "      <td>xxbos @united xxmaj hi , i m flying xxup sfo - xxup lax - xxup xxunk - xxup xxunk . xxmaj my connecting time in xxup lax is xxunk m . xxmaj is it enough time ? xxmaj do i have to collect my bag and recheck on xxup xxunk ?</td>\n",
              "      <td>neutral</td>\n",
              "    </tr>\n",
              "    <tr>\n",
              "      <td>xxbos @usairways 4 segments , 4 / 4 delayed . xxmaj xxunk &gt; xxup xxunk . xxup xxunk &gt; xxup jan . xxup jan &gt; xxup xxunk . xxup xxunk &gt; xxup xxunk . xxmaj my year off from flying with you guys was the way to go .</td>\n",
              "      <td>negative</td>\n",
              "    </tr>\n",
              "    <tr>\n",
              "      <td>xxbos @americanair xxmaj aww xxmaj thanks xxup aa .. xxup dfw was on xxup gma up here this xxup am .. so i understand .. xxmaj btw xxup a.a is my xxmaj airline when i m able to trv .. xxmaj love you guys . : )</td>\n",
              "      <td>positive</td>\n",
              "    </tr>\n",
              "  </tbody>\n",
              "</table>"
            ],
            "text/plain": [
              "<IPython.core.display.HTML object>"
            ]
          },
          "metadata": {
            "tags": []
          }
        }
      ]
    },
    {
      "cell_type": "code",
      "metadata": {
        "id": "jt6gHX85xvfk",
        "colab_type": "code",
        "colab": {}
      },
      "source": [
        "\n",
        "learn_clas = text_classifier_learner(data_clas, AWD_LSTM, drop_mult=0.5)\n",
        "learn_clas.load_encoder('fit_enc')\n",
        "learn_clas.freeze()"
      ],
      "execution_count": 0,
      "outputs": []
    },
    {
      "cell_type": "code",
      "metadata": {
        "id": "qWtsYYQIxvuK",
        "colab_type": "code",
        "outputId": "1d937644-d852-4bb5-c8d9-a96565601562",
        "colab": {
          "base_uri": "https://localhost:8080/",
          "height": 145
        }
      },
      "source": [
        "learn_clas.lr_find()"
      ],
      "execution_count": 23,
      "outputs": [
        {
          "output_type": "display_data",
          "data": {
            "text/html": [
              "\n",
              "    <div>\n",
              "        <style>\n",
              "            /* Turns off some styling */\n",
              "            progress {\n",
              "                /* gets rid of default border in Firefox and Opera. */\n",
              "                border: none;\n",
              "                /* Needs to be in here for Safari polyfill so background images work as expected. */\n",
              "                background-size: auto;\n",
              "            }\n",
              "            .progress-bar-interrupted, .progress-bar-interrupted::-webkit-progress-bar {\n",
              "                background: #F44336;\n",
              "            }\n",
              "        </style>\n",
              "      <progress value='1' class='' max='2', style='width:300px; height:20px; vertical-align: middle;'></progress>\n",
              "      50.00% [1/2 00:05<00:05]\n",
              "    </div>\n",
              "    \n",
              "<table border=\"1\" class=\"dataframe\">\n",
              "  <thead>\n",
              "    <tr style=\"text-align: left;\">\n",
              "      <th>epoch</th>\n",
              "      <th>train_loss</th>\n",
              "      <th>valid_loss</th>\n",
              "      <th>accuracy</th>\n",
              "      <th>time</th>\n",
              "    </tr>\n",
              "  </thead>\n",
              "  <tbody>\n",
              "    <tr>\n",
              "      <td>0</td>\n",
              "      <td>1.010860</td>\n",
              "      <td>#na#</td>\n",
              "      <td>00:05</td>\n",
              "    </tr>\n",
              "  </tbody>\n",
              "</table><p>\n",
              "\n",
              "    <div>\n",
              "        <style>\n",
              "            /* Turns off some styling */\n",
              "            progress {\n",
              "                /* gets rid of default border in Firefox and Opera. */\n",
              "                border: none;\n",
              "                /* Needs to be in here for Safari polyfill so background images work as expected. */\n",
              "                background-size: auto;\n",
              "            }\n",
              "            .progress-bar-interrupted, .progress-bar-interrupted::-webkit-progress-bar {\n",
              "                background: #F44336;\n",
              "            }\n",
              "        </style>\n",
              "      <progress value='22' class='' max='72', style='width:300px; height:20px; vertical-align: middle;'></progress>\n",
              "      30.56% [22/72 00:01<00:04 3.2774]\n",
              "    </div>\n",
              "    "
            ],
            "text/plain": [
              "<IPython.core.display.HTML object>"
            ]
          },
          "metadata": {
            "tags": []
          }
        },
        {
          "output_type": "stream",
          "text": [
            "LR Finder is complete, type {learner_name}.recorder.plot() to see the graph.\n"
          ],
          "name": "stdout"
        }
      ]
    },
    {
      "cell_type": "code",
      "metadata": {
        "id": "lo3jqvjbxvZP",
        "colab_type": "code",
        "outputId": "63f739c5-02dc-4aa9-ea6a-c3ddfafade5c",
        "colab": {
          "base_uri": "https://localhost:8080/",
          "height": 279
        }
      },
      "source": [
        "learn_clas.recorder.plot()"
      ],
      "execution_count": 24,
      "outputs": [
        {
          "output_type": "display_data",
          "data": {
            "image/png": "[encoded data removed]",
            "text/plain": [
              "<Figure size 432x288 with 1 Axes>"
            ]
          },
          "metadata": {
            "tags": []
          }
        }
      ]
    },
    {
      "cell_type": "markdown",
      "metadata": {
        "id": "YA8PIAYdxbSq",
        "colab_type": "text"
      },
      "source": [
        "## Gradually Unfreezing:"
      ]
    },
    {
      "cell_type": "markdown",
      "metadata": {
        "id": "5vXyOYKwx79-",
        "colab_type": "text"
      },
      "source": [
        "* Gradually unfreeze layers and then running an epoch each time, in accordance with the suggestions in the ULMFiT paper to obtain a higher accurancy.\n",
        "* The paper proposed to gradually unfreeze the model starting from the last layer and fine-tune all unfrozen layers in one epoch. The latter a layer is, the least memory it has compared to other layers. They later freeze the next lower layer and repeat the fine-tuning process until convergence at last iteration.\n",
        "* We use slice() to apply different lr for different groups "
      ]
    },
    {
      "cell_type": "code",
      "metadata": {
        "id": "Dp7kN2z6xvSh",
        "colab_type": "code",
        "outputId": "6d0d557e-7442-47d9-d049-1c5ad22bb0c0",
        "colab": {
          "base_uri": "https://localhost:8080/",
          "height": 80
        }
      },
      "source": [
        "lr=2e-2\n",
        "learn_clas.fit_one_cycle(1, lr, moms=(0.8,0.7), wd=0.1)\n",
        "learn_clas.save('first')"
      ],
      "execution_count": 25,
      "outputs": [
        {
          "output_type": "display_data",
          "data": {
            "text/html": [
              "<table border=\"1\" class=\"dataframe\">\n",
              "  <thead>\n",
              "    <tr style=\"text-align: left;\">\n",
              "      <th>epoch</th>\n",
              "      <th>train_loss</th>\n",
              "      <th>valid_loss</th>\n",
              "      <th>accuracy</th>\n",
              "      <th>time</th>\n",
              "    </tr>\n",
              "  </thead>\n",
              "  <tbody>\n",
              "    <tr>\n",
              "      <td>0</td>\n",
              "      <td>0.699316</td>\n",
              "      <td>0.587548</td>\n",
              "      <td>0.750977</td>\n",
              "      <td>00:06</td>\n",
              "    </tr>\n",
              "  </tbody>\n",
              "</table>"
            ],
            "text/plain": [
              "<IPython.core.display.HTML object>"
            ]
          },
          "metadata": {
            "tags": []
          }
        }
      ]
    },
    {
      "cell_type": "code",
      "metadata": {
        "id": "iaSfieBL81Kb",
        "colab_type": "code",
        "outputId": "ac6e390e-1462-4831-b00f-c5bc6e6789c5",
        "colab": {
          "base_uri": "https://localhost:8080/",
          "height": 80
        }
      },
      "source": [
        "lr/=2\n",
        "learn_clas.freeze_to(-2)\n",
        "learn_clas.fit_one_cycle(1, slice(lr/(2.6**4),lr), moms=(0.8,0.7), wd=0.1)\n",
        "learn_clas.save('second')"
      ],
      "execution_count": 26,
      "outputs": [
        {
          "output_type": "display_data",
          "data": {
            "text/html": [
              "<table border=\"1\" class=\"dataframe\">\n",
              "  <thead>\n",
              "    <tr style=\"text-align: left;\">\n",
              "      <th>epoch</th>\n",
              "      <th>train_loss</th>\n",
              "      <th>valid_loss</th>\n",
              "      <th>accuracy</th>\n",
              "      <th>time</th>\n",
              "    </tr>\n",
              "  </thead>\n",
              "  <tbody>\n",
              "    <tr>\n",
              "      <td>0</td>\n",
              "      <td>0.637686</td>\n",
              "      <td>0.550358</td>\n",
              "      <td>0.790039</td>\n",
              "      <td>00:06</td>\n",
              "    </tr>\n",
              "  </tbody>\n",
              "</table>"
            ],
            "text/plain": [
              "<IPython.core.display.HTML object>"
            ]
          },
          "metadata": {
            "tags": []
          }
        }
      ]
    },
    {
      "cell_type": "code",
      "metadata": {
        "id": "AKTPiym481PH",
        "colab_type": "code",
        "outputId": "467b9264-0ad1-4461-c55e-ef06b334231f",
        "colab": {
          "base_uri": "https://localhost:8080/",
          "height": 80
        }
      },
      "source": [
        "lr/=2\n",
        "learn_clas.freeze_to(-3)\n",
        "learn_clas.fit_one_cycle(1, slice(lr/(2.6**4),lr), moms=(0.8,0.7), wd=0.1)"
      ],
      "execution_count": 27,
      "outputs": [
        {
          "output_type": "display_data",
          "data": {
            "text/html": [
              "<table border=\"1\" class=\"dataframe\">\n",
              "  <thead>\n",
              "    <tr style=\"text-align: left;\">\n",
              "      <th>epoch</th>\n",
              "      <th>train_loss</th>\n",
              "      <th>valid_loss</th>\n",
              "      <th>accuracy</th>\n",
              "      <th>time</th>\n",
              "    </tr>\n",
              "  </thead>\n",
              "  <tbody>\n",
              "    <tr>\n",
              "      <td>0</td>\n",
              "      <td>0.573802</td>\n",
              "      <td>0.515403</td>\n",
              "      <td>0.797852</td>\n",
              "      <td>00:06</td>\n",
              "    </tr>\n",
              "  </tbody>\n",
              "</table>"
            ],
            "text/plain": [
              "<IPython.core.display.HTML object>"
            ]
          },
          "metadata": {
            "tags": []
          }
        }
      ]
    },
    {
      "cell_type": "code",
      "metadata": {
        "id": "KyXKDhXk81a8",
        "colab_type": "code",
        "outputId": "ca8ae7fb-58e7-430f-a5aa-e6cbc36b3da2",
        "colab": {
          "base_uri": "https://localhost:8080/",
          "height": 173
        }
      },
      "source": [
        "lr/=5\n",
        "learn_clas.unfreeze()\n",
        "learn_clas.fit_one_cycle(4, slice(lr/(2.6**4),lr), moms=(0.8,0.7), wd=0.1)"
      ],
      "execution_count": 28,
      "outputs": [
        {
          "output_type": "display_data",
          "data": {
            "text/html": [
              "<table border=\"1\" class=\"dataframe\">\n",
              "  <thead>\n",
              "    <tr style=\"text-align: left;\">\n",
              "      <th>epoch</th>\n",
              "      <th>train_loss</th>\n",
              "      <th>valid_loss</th>\n",
              "      <th>accuracy</th>\n",
              "      <th>time</th>\n",
              "    </tr>\n",
              "  </thead>\n",
              "  <tbody>\n",
              "    <tr>\n",
              "      <td>0</td>\n",
              "      <td>0.503976</td>\n",
              "      <td>0.504744</td>\n",
              "      <td>0.793945</td>\n",
              "      <td>00:06</td>\n",
              "    </tr>\n",
              "    <tr>\n",
              "      <td>1</td>\n",
              "      <td>0.490098</td>\n",
              "      <td>0.495602</td>\n",
              "      <td>0.805664</td>\n",
              "      <td>00:06</td>\n",
              "    </tr>\n",
              "    <tr>\n",
              "      <td>2</td>\n",
              "      <td>0.472205</td>\n",
              "      <td>0.492248</td>\n",
              "      <td>0.809570</td>\n",
              "      <td>00:06</td>\n",
              "    </tr>\n",
              "    <tr>\n",
              "      <td>3</td>\n",
              "      <td>0.446772</td>\n",
              "      <td>0.494754</td>\n",
              "      <td>0.805664</td>\n",
              "      <td>00:06</td>\n",
              "    </tr>\n",
              "  </tbody>\n",
              "</table>"
            ],
            "text/plain": [
              "<IPython.core.display.HTML object>"
            ]
          },
          "metadata": {
            "tags": []
          }
        }
      ]
    },
    {
      "cell_type": "markdown",
      "metadata": {
        "id": "lQ7W9Xdt6BeX",
        "colab_type": "text"
      },
      "source": [
        "## Predictions:"
      ]
    },
    {
      "cell_type": "markdown",
      "metadata": {
        "id": "ifG6D6tDYbDE",
        "colab_type": "text"
      },
      "source": [
        "*  Cross-tabulate the predictions for each class:\n"
      ]
    },
    {
      "cell_type": "code",
      "metadata": {
        "id": "RcqanKdn81f-",
        "colab_type": "code",
        "outputId": "ae80c139-ba81-4b46-b60c-3aca3bb91bcc",
        "colab": {
          "base_uri": "https://localhost:8080/",
          "height": 173
        }
      },
      "source": [
        "preds_fwd, targets_fwd = learn_clas.get_preds()\n",
        "predictions_fwd = np.argmax(preds_fwd, axis=1)\n",
        "pd.crosstab(predictions_fwd, targets_fwd)"
      ],
      "execution_count": 29,
      "outputs": [
        {
          "output_type": "display_data",
          "data": {
            "text/html": [
              ""
            ],
            "text/plain": [
              "<IPython.core.display.HTML object>"
            ]
          },
          "metadata": {
            "tags": []
          }
        },
        {
          "output_type": "execute_result",
          "data": {
            "text/html": [
              "<div>\n",
              "<style scoped>\n",
              "    .dataframe tbody tr th:only-of-type {\n",
              "        vertical-align: middle;\n",
              "    }\n",
              "\n",
              "    .dataframe tbody tr th {\n",
              "        vertical-align: top;\n",
              "    }\n",
              "\n",
              "    .dataframe thead th {\n",
              "        text-align: right;\n",
              "    }\n",
              "</style>\n",
              "<table border=\"1\" class=\"dataframe\">\n",
              "  <thead>\n",
              "    <tr style=\"text-align: right;\">\n",
              "      <th>col_0</th>\n",
              "      <th>0</th>\n",
              "      <th>1</th>\n",
              "      <th>2</th>\n",
              "    </tr>\n",
              "    <tr>\n",
              "      <th>row_0</th>\n",
              "      <th></th>\n",
              "      <th></th>\n",
              "      <th></th>\n",
              "    </tr>\n",
              "  </thead>\n",
              "  <tbody>\n",
              "    <tr>\n",
              "      <th>0</th>\n",
              "      <td>574</td>\n",
              "      <td>64</td>\n",
              "      <td>28</td>\n",
              "    </tr>\n",
              "    <tr>\n",
              "      <th>1</th>\n",
              "      <td>42</td>\n",
              "      <td>128</td>\n",
              "      <td>17</td>\n",
              "    </tr>\n",
              "    <tr>\n",
              "      <th>2</th>\n",
              "      <td>19</td>\n",
              "      <td>29</td>\n",
              "      <td>123</td>\n",
              "    </tr>\n",
              "  </tbody>\n",
              "</table>\n",
              "</div>"
            ],
            "text/plain": [
              "col_0    0    1    2\n",
              "row_0               \n",
              "0      574   64   28\n",
              "1       42  128   17\n",
              "2       19   29  123"
            ]
          },
          "metadata": {
            "tags": []
          },
          "execution_count": 29
        }
      ]
    },
    {
      "cell_type": "markdown",
      "metadata": {
        "id": "eGXCYEEXYl6w",
        "colab_type": "text"
      },
      "source": [
        "#Bidirectional Language Model:"
      ]
    },
    {
      "cell_type": "markdown",
      "metadata": {
        "id": "O0NkjhqZ-kIh",
        "colab_type": "text"
      },
      "source": [
        "In order to apply Bidirectional language model, We'll reverse the words in tweets  form training set. We'll follow the exact same steps we took for language model (data_lm) and language model learner (learn_AWD). \n",
        "\n",
        "\n",
        "*   load data from pre-saved 'data_lm.pkl' and reverse it and save it into 'data_lm_back.pkl'\n",
        "*   apply language model, learning rate finder and train 1 epoch.\n",
        "\n"
      ]
    },
    {
      "cell_type": "markdown",
      "metadata": {
        "id": "SkEkis_0Ytr0",
        "colab_type": "text"
      },
      "source": [
        "## Reverse:"
      ]
    },
    {
      "cell_type": "code",
      "metadata": {
        "id": "GlABBgw2X46Y",
        "colab_type": "code",
        "outputId": "0744ef1d-5148-404d-bbee-8a1a59cf5804",
        "colab": {
          "base_uri": "https://localhost:8080/",
          "height": 35
        }
      },
      "source": [
        "##recall: # language model \n",
        "##data_lm = TextLMDataBunch.from_df(train_df = train, valid_df = test, path=\"\")\n",
        "##Save the language and classifier model data\n",
        "##data_lm.save('data_lm.pkl')\n",
        "\n",
        "data_lm_back = load_data('/content/','data_lm.pkl',  backwards=True)\n",
        "# Save the language and classifier model data\n",
        "data_lm_back.save('data_lm_back.pkl')\n",
        "print(len(data_lm_back.train_ds))"
      ],
      "execution_count": 30,
      "outputs": [
        {
          "output_type": "stream",
          "text": [
            "9224\n"
          ],
          "name": "stdout"
        }
      ]
    },
    {
      "cell_type": "markdown",
      "metadata": {
        "id": "Abpvxy7nY4aJ",
        "colab_type": "text"
      },
      "source": [
        "## Learning Rate:"
      ]
    },
    {
      "cell_type": "code",
      "metadata": {
        "id": "f3tcVXw4X5Q7",
        "colab_type": "code",
        "outputId": "c71793e8-e12a-4ecb-feba-715743b4b96c",
        "colab": {
          "base_uri": "https://localhost:8080/",
          "height": 145
        }
      },
      "source": [
        "learn_AWD_back=language_model_learner(data_lm_back,  AWD_LSTM, drop_mult=0.5)\n",
        "learn_AWD_back.lr_find()"
      ],
      "execution_count": 31,
      "outputs": [
        {
          "output_type": "display_data",
          "data": {
            "text/html": [
              "\n",
              "    <div>\n",
              "        <style>\n",
              "            /* Turns off some styling */\n",
              "            progress {\n",
              "                /* gets rid of default border in Firefox and Opera. */\n",
              "                border: none;\n",
              "                /* Needs to be in here for Safari polyfill so background images work as expected. */\n",
              "                background-size: auto;\n",
              "            }\n",
              "            .progress-bar-interrupted, .progress-bar-interrupted::-webkit-progress-bar {\n",
              "                background: #F44336;\n",
              "            }\n",
              "        </style>\n",
              "      <progress value='1' class='' max='2', style='width:300px; height:20px; vertical-align: middle;'></progress>\n",
              "      50.00% [1/2 00:06<00:06]\n",
              "    </div>\n",
              "    \n",
              "<table border=\"1\" class=\"dataframe\">\n",
              "  <thead>\n",
              "    <tr style=\"text-align: left;\">\n",
              "      <th>epoch</th>\n",
              "      <th>train_loss</th>\n",
              "      <th>valid_loss</th>\n",
              "      <th>accuracy</th>\n",
              "      <th>time</th>\n",
              "    </tr>\n",
              "  </thead>\n",
              "  <tbody>\n",
              "    <tr>\n",
              "      <td>0</td>\n",
              "      <td>6.338147</td>\n",
              "      <td>#na#</td>\n",
              "      <td>00:06</td>\n",
              "    </tr>\n",
              "  </tbody>\n",
              "</table><p>\n",
              "\n",
              "    <div>\n",
              "        <style>\n",
              "            /* Turns off some styling */\n",
              "            progress {\n",
              "                /* gets rid of default border in Firefox and Opera. */\n",
              "                border: none;\n",
              "                /* Needs to be in here for Safari polyfill so background images work as expected. */\n",
              "                background-size: auto;\n",
              "            }\n",
              "            .progress-bar-interrupted, .progress-bar-interrupted::-webkit-progress-bar {\n",
              "                background: #F44336;\n",
              "            }\n",
              "        </style>\n",
              "      <progress value='49' class='' max='50', style='width:300px; height:20px; vertical-align: middle;'></progress>\n",
              "      98.00% [49/50 00:05<00:00 8.9286]\n",
              "    </div>\n",
              "    "
            ],
            "text/plain": [
              "<IPython.core.display.HTML object>"
            ]
          },
          "metadata": {
            "tags": []
          }
        },
        {
          "output_type": "stream",
          "text": [
            "LR Finder is complete, type {learner_name}.recorder.plot() to see the graph.\n"
          ],
          "name": "stdout"
        }
      ]
    },
    {
      "cell_type": "code",
      "metadata": {
        "id": "uAib4ckN81mk",
        "colab_type": "code",
        "outputId": "626efc8f-d15e-47b2-fcab-4e7598d78194",
        "colab": {
          "base_uri": "https://localhost:8080/",
          "height": 315
        }
      },
      "source": [
        "learn_AWD_back.recorder.plot(suggestion=True)"
      ],
      "execution_count": 32,
      "outputs": [
        {
          "output_type": "stream",
          "text": [
            "Min numerical gradient: 6.92E-02\n",
            "Min loss divided by 10: 5.25E-02\n"
          ],
          "name": "stdout"
        },
        {
          "output_type": "display_data",
          "data": {
            "image/png": "[encoded data removed]",
            "text/plain": [
              "<Figure size 432x288 with 1 Axes>"
            ]
          },
          "metadata": {
            "tags": []
          }
        }
      ]
    },
    {
      "cell_type": "code",
      "metadata": {
        "id": "tNHyxe4R81X9",
        "colab_type": "code",
        "outputId": "dfd3601e-f95e-4e38-b26c-02ff990c6510",
        "colab": {
          "base_uri": "https://localhost:8080/",
          "height": 80
        }
      },
      "source": [
        "learn_AWD_back.fit_one_cycle(1, 1e-2, moms=(0.8,0.7))\n",
        "learn_AWD_back.save('fit_head')"
      ],
      "execution_count": 33,
      "outputs": [
        {
          "output_type": "display_data",
          "data": {
            "text/html": [
              "<table border=\"1\" class=\"dataframe\">\n",
              "  <thead>\n",
              "    <tr style=\"text-align: left;\">\n",
              "      <th>epoch</th>\n",
              "      <th>train_loss</th>\n",
              "      <th>valid_loss</th>\n",
              "      <th>accuracy</th>\n",
              "      <th>time</th>\n",
              "    </tr>\n",
              "  </thead>\n",
              "  <tbody>\n",
              "    <tr>\n",
              "      <td>0</td>\n",
              "      <td>4.853065</td>\n",
              "      <td>4.179204</td>\n",
              "      <td>0.287351</td>\n",
              "      <td>00:06</td>\n",
              "    </tr>\n",
              "  </tbody>\n",
              "</table>"
            ],
            "text/plain": [
              "<IPython.core.display.HTML object>"
            ]
          },
          "metadata": {
            "tags": []
          }
        }
      ]
    },
    {
      "cell_type": "code",
      "metadata": {
        "id": "p3W8R1oy81Un",
        "colab_type": "code",
        "outputId": "ced092fe-112d-4a91-e196-55691ce19a20",
        "colab": {
          "base_uri": "https://localhost:8080/",
          "height": 621
        }
      },
      "source": [
        "learn_AWD_back.recorder.plot_lr()\n",
        "learn_AWD_back.unfreeze()\n",
        "learn_AWD_back.fit_one_cycle(10, 1e-3, moms=(0.8,0.7))"
      ],
      "execution_count": 34,
      "outputs": [
        {
          "output_type": "display_data",
          "data": {
            "text/html": [
              "<table border=\"1\" class=\"dataframe\">\n",
              "  <thead>\n",
              "    <tr style=\"text-align: left;\">\n",
              "      <th>epoch</th>\n",
              "      <th>train_loss</th>\n",
              "      <th>valid_loss</th>\n",
              "      <th>accuracy</th>\n",
              "      <th>time</th>\n",
              "    </tr>\n",
              "  </thead>\n",
              "  <tbody>\n",
              "    <tr>\n",
              "      <td>0</td>\n",
              "      <td>4.186066</td>\n",
              "      <td>4.003013</td>\n",
              "      <td>0.300112</td>\n",
              "      <td>00:06</td>\n",
              "    </tr>\n",
              "    <tr>\n",
              "      <td>1</td>\n",
              "      <td>4.025865</td>\n",
              "      <td>3.837646</td>\n",
              "      <td>0.312649</td>\n",
              "      <td>00:06</td>\n",
              "    </tr>\n",
              "    <tr>\n",
              "      <td>2</td>\n",
              "      <td>3.871439</td>\n",
              "      <td>3.736770</td>\n",
              "      <td>0.322433</td>\n",
              "      <td>00:06</td>\n",
              "    </tr>\n",
              "    <tr>\n",
              "      <td>3</td>\n",
              "      <td>3.714166</td>\n",
              "      <td>3.686411</td>\n",
              "      <td>0.327641</td>\n",
              "      <td>00:06</td>\n",
              "    </tr>\n",
              "    <tr>\n",
              "      <td>4</td>\n",
              "      <td>3.554218</td>\n",
              "      <td>3.657007</td>\n",
              "      <td>0.329650</td>\n",
              "      <td>00:06</td>\n",
              "    </tr>\n",
              "    <tr>\n",
              "      <td>5</td>\n",
              "      <td>3.410316</td>\n",
              "      <td>3.649693</td>\n",
              "      <td>0.331176</td>\n",
              "      <td>00:06</td>\n",
              "    </tr>\n",
              "    <tr>\n",
              "      <td>6</td>\n",
              "      <td>3.276669</td>\n",
              "      <td>3.654272</td>\n",
              "      <td>0.330729</td>\n",
              "      <td>00:06</td>\n",
              "    </tr>\n",
              "    <tr>\n",
              "      <td>7</td>\n",
              "      <td>3.171992</td>\n",
              "      <td>3.665735</td>\n",
              "      <td>0.331176</td>\n",
              "      <td>00:06</td>\n",
              "    </tr>\n",
              "    <tr>\n",
              "      <td>8</td>\n",
              "      <td>3.094368</td>\n",
              "      <td>3.670538</td>\n",
              "      <td>0.330990</td>\n",
              "      <td>00:06</td>\n",
              "    </tr>\n",
              "    <tr>\n",
              "      <td>9</td>\n",
              "      <td>3.075546</td>\n",
              "      <td>3.669675</td>\n",
              "      <td>0.331362</td>\n",
              "      <td>00:06</td>\n",
              "    </tr>\n",
              "  </tbody>\n",
              "</table>"
            ],
            "text/plain": [
              "<IPython.core.display.HTML object>"
            ]
          },
          "metadata": {
            "tags": []
          }
        },
        {
          "output_type": "display_data",
          "data": {
            "image/png": "[encoded data removed]",
            "text/plain": [
              "<Figure size 432x288 with 1 Axes>"
            ]
          },
          "metadata": {
            "tags": []
          }
        }
      ]
    },
    {
      "cell_type": "code",
      "metadata": {
        "id": "nAQo0Jhx81Sy",
        "colab_type": "code",
        "colab": {}
      },
      "source": [
        "learn_AWD_back.save('fine_tuned')\n",
        "# Save the fine-tuned encoder\n",
        "learn_AWD_back.save_encoder('fit_enc')"
      ],
      "execution_count": 0,
      "outputs": []
    },
    {
      "cell_type": "markdown",
      "metadata": {
        "id": "-ApdLMrsg-3M",
        "colab_type": "text"
      },
      "source": [
        "## Classifier:"
      ]
    },
    {
      "cell_type": "code",
      "metadata": {
        "id": "U7G-fNh0g_TS",
        "colab_type": "code",
        "outputId": "bf797d21-0819-4adf-e5c4-1523b275e6f6",
        "colab": {
          "base_uri": "https://localhost:8080/",
          "height": 289
        }
      },
      "source": [
        "# recall: we loaded the data for the forward classifier model using the same language model vocabular so that it'll be able to load the encoder 'fit_enc' created above\n",
        "\n",
        "data_clas_back=load_data('/content/', 'data_clas.pkl', backwards=True)\n",
        "data_clas_back.save('bw_data_clas_back.pkl')\n",
        "data_clas_back.show_batch()"
      ],
      "execution_count": 36,
      "outputs": [
        {
          "output_type": "display_data",
          "data": {
            "text/html": [
              "<table border=\"1\" class=\"dataframe\">\n",
              "  <thead>\n",
              "    <tr style=\"text-align: right;\">\n",
              "      <th>text</th>\n",
              "      <th>target</th>\n",
              "    </tr>\n",
              "  </thead>\n",
              "  <tbody>\n",
              "    <tr>\n",
              "      <td>m san68059 xxup . human xxup a call xxup to xxup number xxup a me xxup give xxup or xxup now xxup me xxup tell xxup ? ? ? bag fucking my is fuck the where xxmaj ! ? ! ? bag xxup fucking xxup my xxup is xxup where xxup @united xxbos</td>\n",
              "      <td>negative</td>\n",
              "    </tr>\n",
              "    <tr>\n",
              "      <td>? xxunk xxup on recheck and bag my collect to have i do xxmaj ? time enough it is xxmaj . m xxunk is lax xxup in time connecting my xxmaj . xxunk xxup - xxunk xxup - lax xxup - sfo xxup flying m i , hi xxmaj @united xxbos</td>\n",
              "      <td>neutral</td>\n",
              "    </tr>\n",
              "    <tr>\n",
              "      <td>) : . guys you love xxmaj .. trv to able m i when airline xxmaj my is a.a xxup btw xxmaj .. understand i so .. am xxup this here up gma xxup on was dfw xxup .. aa xxup thanks xxmaj aww xxmaj @americanair xxbos</td>\n",
              "      <td>positive</td>\n",
              "    </tr>\n",
              "    <tr>\n",
              "      <td>) : . guys you love xxmaj .. trv to able m i when airline xxmaj my is a.a xxup btw xxmaj .. understand i so .. am xxup this here up gma xxup on was dfw xxup .. aa xxup thanks xxmaj aww xxmaj @americanair xxbos</td>\n",
              "      <td>positive</td>\n",
              "    </tr>\n",
              "    <tr>\n",
              "      <td>! bag no still xxmaj . iah xxup to back then and dfw xxup - iah xxup to went bag today xxmaj . iah xxup to went bag xxmaj . aus xxup - dfw xxup - tpa xxup fron yesterday flight a took xxmaj @americanair xxbos</td>\n",
              "      <td>negative</td>\n",
              "    </tr>\n",
              "  </tbody>\n",
              "</table>"
            ],
            "text/plain": [
              "<IPython.core.display.HTML object>"
            ]
          },
          "metadata": {
            "tags": []
          }
        }
      ]
    },
    {
      "cell_type": "code",
      "metadata": {
        "id": "rkghsVvpmDzp",
        "colab_type": "code",
        "colab": {}
      },
      "source": [
        "learn_clas_back = text_classifier_learner(data_clas_back, AWD_LSTM, drop_mult=0.5)"
      ],
      "execution_count": 0,
      "outputs": []
    },
    {
      "cell_type": "code",
      "metadata": {
        "id": "HN7fBhwEg_Z2",
        "colab_type": "code",
        "outputId": "6d906294-6c82-44e8-96cd-a633aa8be92d",
        "colab": {
          "base_uri": "https://localhost:8080/",
          "height": 80
        }
      },
      "source": [
        "learn_clas_back.load_encoder('fit_enc')\n",
        "learn_clas_back.freeze()\n",
        "learn_clas_back.fit_one_cycle(1, 1e-2, moms=(0.8,0.7))\n",
        "learn_clas_back.save('first')"
      ],
      "execution_count": 38,
      "outputs": [
        {
          "output_type": "display_data",
          "data": {
            "text/html": [
              "<table border=\"1\" class=\"dataframe\">\n",
              "  <thead>\n",
              "    <tr style=\"text-align: left;\">\n",
              "      <th>epoch</th>\n",
              "      <th>train_loss</th>\n",
              "      <th>valid_loss</th>\n",
              "      <th>accuracy</th>\n",
              "      <th>time</th>\n",
              "    </tr>\n",
              "  </thead>\n",
              "  <tbody>\n",
              "    <tr>\n",
              "      <td>0</td>\n",
              "      <td>0.700045</td>\n",
              "      <td>0.590025</td>\n",
              "      <td>0.759766</td>\n",
              "      <td>00:07</td>\n",
              "    </tr>\n",
              "  </tbody>\n",
              "</table>"
            ],
            "text/plain": [
              "<IPython.core.display.HTML object>"
            ]
          },
          "metadata": {
            "tags": []
          }
        }
      ]
    },
    {
      "cell_type": "code",
      "metadata": {
        "id": "6WEGObKim6PH",
        "colab_type": "code",
        "outputId": "25afc374-bf8b-4cb5-a69b-549e12caaaa4",
        "colab": {
          "base_uri": "https://localhost:8080/",
          "height": 80
        }
      },
      "source": [
        "learn_clas_back.freeze_to(-2)\n",
        "learn_clas_back.fit_one_cycle(1,slice(1e-2/(2.6**4),1e-2),moms=(0.8, 0.7) )\n",
        "learn_clas_back.save('second')"
      ],
      "execution_count": 39,
      "outputs": [
        {
          "output_type": "display_data",
          "data": {
            "text/html": [
              "<table border=\"1\" class=\"dataframe\">\n",
              "  <thead>\n",
              "    <tr style=\"text-align: left;\">\n",
              "      <th>epoch</th>\n",
              "      <th>train_loss</th>\n",
              "      <th>valid_loss</th>\n",
              "      <th>accuracy</th>\n",
              "      <th>time</th>\n",
              "    </tr>\n",
              "  </thead>\n",
              "  <tbody>\n",
              "    <tr>\n",
              "      <td>0</td>\n",
              "      <td>0.627393</td>\n",
              "      <td>0.549011</td>\n",
              "      <td>0.784180</td>\n",
              "      <td>00:07</td>\n",
              "    </tr>\n",
              "  </tbody>\n",
              "</table>"
            ],
            "text/plain": [
              "<IPython.core.display.HTML object>"
            ]
          },
          "metadata": {
            "tags": []
          }
        }
      ]
    },
    {
      "cell_type": "code",
      "metadata": {
        "id": "_n6yBI-Pm-Jc",
        "colab_type": "code",
        "outputId": "40feb115-a16f-4298-d6ae-b2606674f833",
        "colab": {
          "base_uri": "https://localhost:8080/",
          "height": 80
        }
      },
      "source": [
        "learn_clas_back.freeze_to(-3)\n",
        "\n",
        "learn_clas_back.fit_one_cycle(1,slice(5e-3/(2.6**4),5e-3),moms=(0.8,0.7) )\n",
        "\n"
      ],
      "execution_count": 40,
      "outputs": [
        {
          "output_type": "display_data",
          "data": {
            "text/html": [
              "<table border=\"1\" class=\"dataframe\">\n",
              "  <thead>\n",
              "    <tr style=\"text-align: left;\">\n",
              "      <th>epoch</th>\n",
              "      <th>train_loss</th>\n",
              "      <th>valid_loss</th>\n",
              "      <th>accuracy</th>\n",
              "      <th>time</th>\n",
              "    </tr>\n",
              "  </thead>\n",
              "  <tbody>\n",
              "    <tr>\n",
              "      <td>0</td>\n",
              "      <td>0.560708</td>\n",
              "      <td>0.521814</td>\n",
              "      <td>0.795898</td>\n",
              "      <td>00:07</td>\n",
              "    </tr>\n",
              "  </tbody>\n",
              "</table>"
            ],
            "text/plain": [
              "<IPython.core.display.HTML object>"
            ]
          },
          "metadata": {
            "tags": []
          }
        }
      ]
    },
    {
      "cell_type": "code",
      "metadata": {
        "id": "8qmZSH0Em-Mr",
        "colab_type": "code",
        "outputId": "883bcaed-8eee-4dda-b1f8-36c78b454a1a",
        "colab": {
          "base_uri": "https://localhost:8080/",
          "height": 142
        }
      },
      "source": [
        "learn_clas_back.unfreeze()\n",
        "learn_clas_back.fit_one_cycle(3,slice(1e-3/(2.6**4),1e-3),moms=(0.8,0.7))"
      ],
      "execution_count": 41,
      "outputs": [
        {
          "output_type": "display_data",
          "data": {
            "text/html": [
              "<table border=\"1\" class=\"dataframe\">\n",
              "  <thead>\n",
              "    <tr style=\"text-align: left;\">\n",
              "      <th>epoch</th>\n",
              "      <th>train_loss</th>\n",
              "      <th>valid_loss</th>\n",
              "      <th>accuracy</th>\n",
              "      <th>time</th>\n",
              "    </tr>\n",
              "  </thead>\n",
              "  <tbody>\n",
              "    <tr>\n",
              "      <td>0</td>\n",
              "      <td>0.501805</td>\n",
              "      <td>0.506121</td>\n",
              "      <td>0.801758</td>\n",
              "      <td>00:08</td>\n",
              "    </tr>\n",
              "    <tr>\n",
              "      <td>1</td>\n",
              "      <td>0.478856</td>\n",
              "      <td>0.491060</td>\n",
              "      <td>0.803711</td>\n",
              "      <td>00:08</td>\n",
              "    </tr>\n",
              "    <tr>\n",
              "      <td>2</td>\n",
              "      <td>0.461929</td>\n",
              "      <td>0.490978</td>\n",
              "      <td>0.801758</td>\n",
              "      <td>00:08</td>\n",
              "    </tr>\n",
              "  </tbody>\n",
              "</table>"
            ],
            "text/plain": [
              "<IPython.core.display.HTML object>"
            ]
          },
          "metadata": {
            "tags": []
          }
        }
      ]
    },
    {
      "cell_type": "markdown",
      "metadata": {
        "id": "3KWD5NwJZFwq",
        "colab_type": "text"
      },
      "source": [
        "## Predictions:"
      ]
    },
    {
      "cell_type": "code",
      "metadata": {
        "id": "OlTHQ5Vag_ln",
        "colab_type": "code",
        "outputId": "ae8301d1-b218-4f33-ffcc-ab722312fb2e",
        "colab": {
          "base_uri": "https://localhost:8080/",
          "height": 173
        }
      },
      "source": [
        "preds_back,targets_back=learn_clas_back.get_preds()\n",
        "predictions_back=np.argmax(preds_back,axis=1)\n",
        "pd.crosstab(predictions_back,targets_back)"
      ],
      "execution_count": 42,
      "outputs": [
        {
          "output_type": "display_data",
          "data": {
            "text/html": [
              ""
            ],
            "text/plain": [
              "<IPython.core.display.HTML object>"
            ]
          },
          "metadata": {
            "tags": []
          }
        },
        {
          "output_type": "execute_result",
          "data": {
            "text/html": [
              "<div>\n",
              "<style scoped>\n",
              "    .dataframe tbody tr th:only-of-type {\n",
              "        vertical-align: middle;\n",
              "    }\n",
              "\n",
              "    .dataframe tbody tr th {\n",
              "        vertical-align: top;\n",
              "    }\n",
              "\n",
              "    .dataframe thead th {\n",
              "        text-align: right;\n",
              "    }\n",
              "</style>\n",
              "<table border=\"1\" class=\"dataframe\">\n",
              "  <thead>\n",
              "    <tr style=\"text-align: right;\">\n",
              "      <th>col_0</th>\n",
              "      <th>0</th>\n",
              "      <th>1</th>\n",
              "      <th>2</th>\n",
              "    </tr>\n",
              "    <tr>\n",
              "      <th>row_0</th>\n",
              "      <th></th>\n",
              "      <th></th>\n",
              "      <th></th>\n",
              "    </tr>\n",
              "  </thead>\n",
              "  <tbody>\n",
              "    <tr>\n",
              "      <th>0</th>\n",
              "      <td>581</td>\n",
              "      <td>76</td>\n",
              "      <td>34</td>\n",
              "    </tr>\n",
              "    <tr>\n",
              "      <th>1</th>\n",
              "      <td>40</td>\n",
              "      <td>123</td>\n",
              "      <td>17</td>\n",
              "    </tr>\n",
              "    <tr>\n",
              "      <th>2</th>\n",
              "      <td>14</td>\n",
              "      <td>22</td>\n",
              "      <td>117</td>\n",
              "    </tr>\n",
              "  </tbody>\n",
              "</table>\n",
              "</div>"
            ],
            "text/plain": [
              "col_0    0    1    2\n",
              "row_0               \n",
              "0      581   76   34\n",
              "1       40  123   17\n",
              "2       14   22  117"
            ]
          },
          "metadata": {
            "tags": []
          },
          "execution_count": 42
        }
      ]
    },
    {
      "cell_type": "markdown",
      "metadata": {
        "id": "qrZDdia0ZJHM",
        "colab_type": "text"
      },
      "source": [
        "## Ensemble Classifier:"
      ]
    },
    {
      "cell_type": "markdown",
      "metadata": {
        "id": "t97k4TjWS8M8",
        "colab_type": "text"
      },
      "source": [
        "As we seen below, ensemble method increased accurancy by 0.01."
      ]
    },
    {
      "cell_type": "code",
      "metadata": {
        "id": "9PSHxyEx9AwK",
        "colab_type": "code",
        "colab": {}
      },
      "source": [
        "def f1score(y_true, y_preds):\n",
        "  f1=sklearn.metrics.f1_score(y_true,y_preds, \n",
        "                                labels=None, pos_label=1, average='weighted',sample_weight=None, zero_division='warn')\n",
        "  return f1"
      ],
      "execution_count": 0,
      "outputs": []
    },
    {
      "cell_type": "code",
      "metadata": {
        "id": "7ibwcm5zg_rY",
        "colab_type": "code",
        "outputId": "e2e6f3a6-d083-474d-f079-566b2451843b",
        "colab": {
          "base_uri": "https://localhost:8080/",
          "height": 125
        }
      },
      "source": [
        "# get combined(mean) predictions\n",
        "ensemble_preds = (preds_fwd + preds_back)/2\n",
        "# get combined(mean) accuracy on validation set\n",
        "print('Ensemble classifier results (validation set): \\nValidation accuracy: {:.4f}, Validation error rate: {:.4f}'.format(accuracy(ensemble_preds, targets_fwd), error_rate(ensemble_preds, targets_fwd)))\n",
        "print('FWD classifier results (validation set): \\nValidation accuracy: {:.4f}, Validation error rate: {:.4f}'.format(accuracy(preds_fwd, targets_fwd), error_rate(preds_fwd, targets_fwd)))\n",
        "print('BACK classifier results (validation set): \\nValidation accuracy: {:.4f}, Validation error rate: {:.4f}'.format(accuracy(preds_back, targets_back), error_rate(preds_back, targets_back)))"
      ],
      "execution_count": 44,
      "outputs": [
        {
          "output_type": "stream",
          "text": [
            "Ensemble classifier results (validation set): \n",
            "Validation accuracy: 0.8135, Validation error rate: 0.1865\n",
            "FWD classifier results (validation set): \n",
            "Validation accuracy: 0.8057, Validation error rate: 0.1943\n",
            "BACK classifier results (validation set): \n",
            "Validation accuracy: 0.8018, Validation error rate: 0.1982\n"
          ],
          "name": "stdout"
        }
      ]
    },
    {
      "cell_type": "markdown",
      "metadata": {
        "colab_type": "text",
        "id": "97E5d8buaXzx"
      },
      "source": [
        "# Evaulate Performance on test set:"
      ]
    },
    {
      "cell_type": "markdown",
      "metadata": {
        "id": "cFHtT0blIFZ6",
        "colab_type": "text"
      },
      "source": [
        "\n",
        "*   Apply the learner's predict method to produce our prediction (using learn_clas and learn_clas_back.\n",
        "*   Calculate F1 score\n",
        "*   Build Confusion Matrix"
      ]
    },
    {
      "cell_type": "code",
      "metadata": {
        "id": "88VQGduR_MJx",
        "colab_type": "code",
        "outputId": "f3f6bd9f-535f-4ffd-b77a-a3db86f94f5d",
        "colab": {
          "base_uri": "https://localhost:8080/",
          "height": 143
        }
      },
      "source": [
        "test['pred_sentiment_fwd'] = test['text'].apply(lambda row: str(learn_clas.predict(row)[0]))\n",
        "print(\"Test Accuracy: \", accuracy_score(test['airline_sentiment'], test['pred_sentiment_fwd']))"
      ],
      "execution_count": 45,
      "outputs": [
        {
          "output_type": "stream",
          "text": [
            "Test Accuracy:  0.8228597449908925\n"
          ],
          "name": "stdout"
        },
        {
          "output_type": "stream",
          "text": [
            "/usr/local/lib/python3.6/dist-packages/ipykernel_launcher.py:1: SettingWithCopyWarning: \n",
            "A value is trying to be set on a copy of a slice from a DataFrame.\n",
            "Try using .loc[row_indexer,col_indexer] = value instead\n",
            "\n",
            "See the caveats in the documentation: http://pandas.pydata.org/pandas-docs/stable/user_guide/indexing.html#returning-a-view-versus-a-copy\n",
            "  \"\"\"Entry point for launching an IPython kernel.\n"
          ],
          "name": "stderr"
        }
      ]
    },
    {
      "cell_type": "code",
      "metadata": {
        "id": "deMJx49bsSpc",
        "colab_type": "code",
        "outputId": "806354ce-4765-468b-d9cf-972e225928e0",
        "colab": {
          "base_uri": "https://localhost:8080/",
          "height": 35
        }
      },
      "source": [
        "import sklearn\n",
        "f1_fwd=sklearn.metrics.f1_score(test['airline_sentiment'], test['pred_sentiment_fwd'], \n",
        "                                labels=None, pos_label=1, average='weighted',sample_weight=None, zero_division='warn')\n",
        "print(\"F1-Score: \",f1_fwd)"
      ],
      "execution_count": 46,
      "outputs": [
        {
          "output_type": "stream",
          "text": [
            "F1-Score:  0.8177883314418077\n"
          ],
          "name": "stdout"
        }
      ]
    },
    {
      "cell_type": "code",
      "metadata": {
        "id": "eF3QuWEp_MN7",
        "colab_type": "code",
        "colab": {}
      },
      "source": [
        "# Confusion matrix plotting adapted from https://scikit-learn.org/stable/auto_examples/model_selection/plot_confusion_matrix.html#sphx-glr-auto-examples-model-selection-plot-confusion-matrix-py\n",
        "def plot_confusion_matrix(y_true, y_pred, classes,\n",
        "                          normalize=False,\n",
        "                          title=None,\n",
        "                          cmap=plt.cm.Blues):\n",
        "    \"\"\"\n",
        "    This function prints and plots the confusion matrix.\n",
        "    Normalization can be applied by setting `normalize=True`.\n",
        "    \"\"\"\n",
        "    if not title:\n",
        "        if normalize:\n",
        "            title = 'Normalized confusion matrix'\n",
        "        else:\n",
        "            title = 'Confusion matrix, without normalization'\n",
        "\n",
        "    # Compute confusion matrix\n",
        "    cm = confusion_matrix(y_true, y_pred)\n",
        "    # Only use the labels that appear in the data\n",
        "    #classes = classes[unique_labels(y_true, y_pred)]\n",
        "\n",
        "    fig, ax = plt.subplots()\n",
        "    im = ax.imshow(cm, interpolation='nearest', cmap=cmap)\n",
        "    ax.figure.colorbar(im, ax=ax)\n",
        "    # We want to show all ticks...\n",
        "    ax.set(xticks=np.arange(cm.shape[1]),\n",
        "           yticks=np.arange(cm.shape[0]),\n",
        "           # ... and label them with the respective list entries\n",
        "           xticklabels=classes, yticklabels=classes,\n",
        "           title=title,\n",
        "           ylabel='True label',\n",
        "           xlabel='Predicted label')\n",
        "\n",
        "    # Rotate the tick labels and set their alignment.\n",
        "    plt.setp(ax.get_xticklabels(), rotation=45, ha=\"right\",\n",
        "             rotation_mode=\"anchor\")\n",
        "   # Loop over data dimensions and create text annotations.\n",
        "    fmt = '.2f' if normalize else 'd'\n",
        "    thresh = cm.max() / 2.\n",
        "    for i in range(cm.shape[0]):\n",
        "        for j in range(cm.shape[1]):\n",
        "            ax.text(j, i, format(cm[i, j], fmt),\n",
        "                    ha=\"center\", va=\"center\",\n",
        "                    color=\"white\" if cm[i, j] > thresh else \"black\")\n",
        "    fig.tight_layout()\n",
        "    return ax"
      ],
      "execution_count": 0,
      "outputs": []
    },
    {
      "cell_type": "code",
      "metadata": {
        "id": "WwhYYGjdXqec",
        "colab_type": "code",
        "outputId": "c2833952-1d04-41fe-e05c-22b01b1e05a1",
        "colab": {
          "base_uri": "https://localhost:8080/",
          "height": 297
        }
      },
      "source": [
        "plot_confusion_matrix(test['airline_sentiment'], test['pred_sentiment_fwd'], classes=['negative', 'neutral', 'positive'], title='Airline sentiment confusion matrix')\n",
        "plt.show()"
      ],
      "execution_count": 48,
      "outputs": [
        {
          "output_type": "display_data",
          "data": {
            "image/png": "[encoded data removed]",
            "text/plain": [
              "<Figure size 432x288 with 2 Axes>"
            ]
          },
          "metadata": {
            "tags": []
          }
        }
      ]
    },
    {
      "cell_type": "code",
      "metadata": {
        "id": "2syLgNls_Uja",
        "colab_type": "code",
        "outputId": "f1bfe63f-5dbd-4a54-d7e1-2cb0f96d27f3",
        "colab": {
          "base_uri": "https://localhost:8080/",
          "height": 125
        }
      },
      "source": [
        "\n",
        "test['text_reverse'] =  test.text.str.split().apply(lambda x: ' '.join(x[::-1])) #reverse the words"
      ],
      "execution_count": 51,
      "outputs": [
        {
          "output_type": "stream",
          "text": [
            "/usr/local/lib/python3.6/dist-packages/ipykernel_launcher.py:2: SettingWithCopyWarning: \n",
            "A value is trying to be set on a copy of a slice from a DataFrame.\n",
            "Try using .loc[row_indexer,col_indexer] = value instead\n",
            "\n",
            "See the caveats in the documentation: http://pandas.pydata.org/pandas-docs/stable/user_guide/indexing.html#returning-a-view-versus-a-copy\n",
            "  \n"
          ],
          "name": "stderr"
        }
      ]
    },
    {
      "cell_type": "code",
      "metadata": {
        "id": "vwbTOEfe913u",
        "colab_type": "code",
        "outputId": "9e09a599-c705-4515-9694-96584b164005",
        "colab": {
          "base_uri": "https://localhost:8080/",
          "height": 143
        }
      },
      "source": [
        "test['pred_sentiment_back']=test['text_reverse'].apply(lambda row:str(learn_clas_back.predict(row)[0]))\n",
        "print(\"Test Accuracy: \",accuracy_score(test['airline_sentiment'],test['pred_sentiment_back']))"
      ],
      "execution_count": 52,
      "outputs": [
        {
          "output_type": "stream",
          "text": [
            "Test Accuracy:  0.808287795992714\n"
          ],
          "name": "stdout"
        },
        {
          "output_type": "stream",
          "text": [
            "/usr/local/lib/python3.6/dist-packages/ipykernel_launcher.py:1: SettingWithCopyWarning: \n",
            "A value is trying to be set on a copy of a slice from a DataFrame.\n",
            "Try using .loc[row_indexer,col_indexer] = value instead\n",
            "\n",
            "See the caveats in the documentation: http://pandas.pydata.org/pandas-docs/stable/user_guide/indexing.html#returning-a-view-versus-a-copy\n",
            "  \"\"\"Entry point for launching an IPython kernel.\n"
          ],
          "name": "stderr"
        }
      ]
    },
    {
      "cell_type": "code",
      "metadata": {
        "id": "6n-FOwcsLWjB",
        "colab_type": "code",
        "outputId": "386fe013-7441-4546-809f-f346ce0d9fb6",
        "colab": {
          "base_uri": "https://localhost:8080/",
          "height": 35
        }
      },
      "source": [
        "import sklearn\n",
        "f1_back=sklearn.metrics.f1_score(test['airline_sentiment'], test['pred_sentiment_back'], \n",
        "                                labels=None, pos_label=1, average='weighted',sample_weight=None, zero_division='warn')\n",
        "print(\"F1-Score: \",f1_fwd)"
      ],
      "execution_count": 53,
      "outputs": [
        {
          "output_type": "stream",
          "text": [
            "F1-Score:  0.8177883314418077\n"
          ],
          "name": "stdout"
        }
      ]
    },
    {
      "cell_type": "code",
      "metadata": {
        "id": "Phm0kfPnY38D",
        "colab_type": "code",
        "outputId": "73621777-df6b-4b94-a567-1e1fb7046fc3",
        "colab": {
          "base_uri": "https://localhost:8080/",
          "height": 297
        }
      },
      "source": [
        "plot_confusion_matrix(test['airline_sentiment'], test['pred_sentiment_back'], classes=['negative', 'neutral', 'positive'], title='Airline sentiment confusion matrix')\n",
        "plt.show()"
      ],
      "execution_count": 54,
      "outputs": [
        {
          "output_type": "display_data",
          "data": {
            "image/png": "[encoded data removed]",
            "text/plain": [
              "<Figure size 432x288 with 2 Axes>"
            ]
          },
          "metadata": {
            "tags": []
          }
        }
      ]
    }
  ]
}